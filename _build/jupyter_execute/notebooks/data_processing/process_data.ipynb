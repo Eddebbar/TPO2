{
 "cells": [
  {
   "cell_type": "markdown",
   "id": "bf76230f-5e93-4329-ae53-46a13c6e526d",
   "metadata": {},
   "source": [
    "# Data Processing"
   ]
  },
  {
   "cell_type": "markdown",
   "id": "f2a206e5-7189-4653-82ee-33ba13a6956a",
   "metadata": {},
   "source": [
    "## All model output files can be foud on glade/cheyenne: \n",
    "\n",
    "CESM JRA55 0.1º daily runs: '/glade/campaign/cesm/development/bgcwg/projects/hi-res_JRA/cases/g.e22.G1850ECO_JRA_HR.TL319_t13.004/output/ocn/proc/tseries/day_1/' \n",
    "CESM JRA55 0.1º monthly runs: '/glade/campaign/cesm/development/bgcwg/projects/hi-res_JRA/cases/g.e22.G1850ECO_JRA_HR.TL319_t13.004/output/ocn/proc/tseries/monthly_1/'     \n",
    "CESM CORE 0.1º 5yr Runs:  '/glade/campaign/cesm/development/bgcwg/projects/hi-res_CESM1_CORE/g.e11.G.T62_t12.eco.006/ocn/hist/'\n",
    "B-TPOSE:  '/glade/work/yeddebba/BTPOSE/www.ecco.ucsd.edu/DATA/TROPAC/bgc/'\n",
    "TPOSE: '/glade/work/yeddebba/TPOSE/'\n",
    "CMIP6: \n",
    "    'https://cmip6-preprocessing.readthedocs.io/en/latest/tutorial.html#combo'  \n",
    "    'https://github.com/jbusecke/cmip6_preprocessing'   \n",
    "    'https://github.com/pangeo-gallery/example-gallery'"
   ]
  },
  {
   "cell_type": "markdown",
   "id": "d412af58-875a-455b-bb67-80d30c1758c4",
   "metadata": {},
   "source": [
    "## Tasks:\n",
    "1. CESM Model outputs slices \n",
    "2. TPOSE/MITgcm load model outputs from ecco repository\n",
    "3. Calcualte climatologies etc."
   ]
  }
 ],
 "metadata": {
  "kernelspec": {
   "display_name": "Python 3 (ipykernel)",
   "language": "python",
   "name": "python3"
  },
  "language_info": {
   "codemirror_mode": {
    "name": "ipython",
    "version": 3
   },
   "file_extension": ".py",
   "mimetype": "text/x-python",
   "name": "python",
   "nbconvert_exporter": "python",
   "pygments_lexer": "ipython3",
   "version": "3.9.12"
  }
 },
 "nbformat": 4,
 "nbformat_minor": 5
}