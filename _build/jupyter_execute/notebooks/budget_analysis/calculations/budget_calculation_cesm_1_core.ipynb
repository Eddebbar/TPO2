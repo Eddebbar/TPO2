{
 "cells": [
  {
   "cell_type": "markdown",
   "metadata": {
    "tags": []
   },
   "source": [
    "# Oxygen Budget Analysis "
   ]
  },
  {
   "cell_type": "markdown",
   "metadata": {},
   "source": [
    "This notebook calculates the O$_2$ budget from POP output using xarray and xgcm. Dissolved oxygen in the ocean's interior is simulated following:\n",
    "\n",
    "$$\n",
    "\\frac{\\partial{O_2}}{\\partial{t}}= \\underbrace{- \\frac{\\partial{U.O_2}}{\\partial{x}} -\\frac{\\partial{V.O_2}}{\\partial{y}}}_\\text{Lateral Advection}\n",
    "- \\overbrace{\\frac{\\partial{W.O_2}}{\\partial{z}}}^\\text{Vertical Advection}\n",
    "+ \\underbrace{D(O_2)}_\\text{Lateral Mixing}\n",
    "+\\overbrace{\\frac{\\partial{}}{\\partial{z}}k.\\frac{\\partial{O_2}}{\\partial{z}}}^\\text{Vertical Mixing}\n",
    "+ \\underbrace{ J(O_2)  }_\\text{Sources - Sinks}\n",
    "$$\n"
   ]
  },
  {
   "cell_type": "code",
   "execution_count": 2,
   "metadata": {},
   "outputs": [
    {
     "name": "stdout",
     "output_type": "stream",
     "text": [
      "The autoreload extension is already loaded. To reload it, use:\n",
      "  %reload_ext autoreload\n"
     ]
    }
   ],
   "source": [
    "%load_ext autoreload\n",
    "%autoreload 2\n",
    "%matplotlib inline\n",
    "\n",
    "import warnings\n",
    "warnings.simplefilter(\"ignore\") # Silence warnings\n",
    "\n",
    "import xarray as xr\n",
    "import numpy as np\n",
    "from tqdm import tqdm\n",
    "import xgcm \n",
    "import pop_tools\n",
    "\n",
    "from utils import *"
   ]
  },
  {
   "cell_type": "code",
   "execution_count": 70,
   "metadata": {},
   "outputs": [],
   "source": [
    "C=CLSTR(1,59,300)"
   ]
  },
  {
   "cell_type": "code",
   "execution_count": 83,
   "metadata": {},
   "outputs": [
    {
     "data": {
      "text/html": [
       "<div>\n",
       "    <div style=\"width: 24px; height: 24px; background-color: #e1e1e1; border: 3px solid #9D9D9D; border-radius: 5px; position: absolute;\"> </div>\n",
       "    <div style=\"margin-left: 48px;\">\n",
       "        <h3 style=\"margin-bottom: 0px;\">Client</h3>\n",
       "        <p style=\"color: #9D9D9D; margin-bottom: 0px;\">Client-f4d42829-435a-11ec-b980-3cecef1acb68</p>\n",
       "        <table style=\"width: 100%; text-align: left;\">\n",
       "\n",
       "        <tr>\n",
       "\n",
       "            <td style=\"text-align: left;\"><strong>Connection method:</strong> Cluster object</td>\n",
       "            <td style=\"text-align: left;\"><strong>Cluster type:</strong> dask_jobqueue.PBSCluster</td>\n",
       "\n",
       "        </tr>\n",
       "\n",
       "\n",
       "            <tr>\n",
       "                <td style=\"text-align: left;\">\n",
       "                    <strong>Dashboard: </strong> <a href=\"https://jupyterhub.hpc.ucar.edu/stable/user/yeddebba/proxy/46785/status\" target=\"_blank\">https://jupyterhub.hpc.ucar.edu/stable/user/yeddebba/proxy/46785/status</a>\n",
       "                </td>\n",
       "                <td style=\"text-align: left;\"></td>\n",
       "            </tr>\n",
       "\n",
       "\n",
       "        </table>\n",
       "\n",
       "\n",
       "            <details>\n",
       "            <summary style=\"margin-bottom: 20px;\"><h3 style=\"display: inline;\">Cluster Info</h3></summary>\n",
       "            <div class=\"jp-RenderedHTMLCommon jp-RenderedHTML jp-mod-trusted jp-OutputArea-output\">\n",
       "    <div style=\"width: 24px; height: 24px; background-color: #e1e1e1; border: 3px solid #9D9D9D; border-radius: 5px; position: absolute;\">\n",
       "    </div>\n",
       "    <div style=\"margin-left: 48px;\">\n",
       "        <h3 style=\"margin-bottom: 0px; margin-top: 0px;\">PBSCluster</h3>\n",
       "        <p style=\"color: #9D9D9D; margin-bottom: 0px;\">40286c64</p>\n",
       "        <table style=\"width: 100%; text-align: left;\">\n",
       "            <tr>\n",
       "                <td style=\"text-align: left;\">\n",
       "                    <strong>Dashboard:</strong> <a href=\"https://jupyterhub.hpc.ucar.edu/stable/user/yeddebba/proxy/46785/status\" target=\"_blank\">https://jupyterhub.hpc.ucar.edu/stable/user/yeddebba/proxy/46785/status</a>\n",
       "                </td>\n",
       "                <td style=\"text-align: left;\">\n",
       "                    <strong>Workers:</strong> 10\n",
       "                </td>\n",
       "            </tr>\n",
       "            <tr>\n",
       "                <td style=\"text-align: left;\">\n",
       "                    <strong>Total threads:</strong> 10\n",
       "                </td>\n",
       "                <td style=\"text-align: left;\">\n",
       "                    <strong>Total memory:</strong> 279.40 GiB\n",
       "                </td>\n",
       "            </tr>\n",
       "\n",
       "        </table>\n",
       "\n",
       "        <details>\n",
       "            <summary style=\"margin-bottom: 20px;\">\n",
       "                <h3 style=\"display: inline;\">Scheduler Info</h3>\n",
       "            </summary>\n",
       "\n",
       "            <div style=\"\">\n",
       "    <div>\n",
       "        <div style=\"width: 24px; height: 24px; background-color: #FFF7E5; border: 3px solid #FF6132; border-radius: 5px; position: absolute;\"> </div>\n",
       "        <div style=\"margin-left: 48px;\">\n",
       "            <h3 style=\"margin-bottom: 0px;\">Scheduler</h3>\n",
       "            <p style=\"color: #9D9D9D; margin-bottom: 0px;\">Scheduler-8bb6e8b7-7e8d-4e11-af31-7f09ab63ec7f</p>\n",
       "            <table style=\"width: 100%; text-align: left;\">\n",
       "                <tr>\n",
       "                    <td style=\"text-align: left;\">\n",
       "                        <strong>Comm:</strong> tcp://10.12.206.46:41962\n",
       "                    </td>\n",
       "                    <td style=\"text-align: left;\">\n",
       "                        <strong>Workers:</strong> 10\n",
       "                    </td>\n",
       "                </tr>\n",
       "                <tr>\n",
       "                    <td style=\"text-align: left;\">\n",
       "                        <strong>Dashboard:</strong> <a href=\"https://jupyterhub.hpc.ucar.edu/stable/user/yeddebba/proxy/46785/status\" target=\"_blank\">https://jupyterhub.hpc.ucar.edu/stable/user/yeddebba/proxy/46785/status</a>\n",
       "                    </td>\n",
       "                    <td style=\"text-align: left;\">\n",
       "                        <strong>Total threads:</strong> 10\n",
       "                    </td>\n",
       "                </tr>\n",
       "                <tr>\n",
       "                    <td style=\"text-align: left;\">\n",
       "                        <strong>Started:</strong> 7 minutes ago\n",
       "                    </td>\n",
       "                    <td style=\"text-align: left;\">\n",
       "                        <strong>Total memory:</strong> 279.40 GiB\n",
       "                    </td>\n",
       "                </tr>\n",
       "            </table>\n",
       "        </div>\n",
       "    </div>\n",
       "\n",
       "    <details style=\"margin-left: 48px;\">\n",
       "        <summary style=\"margin-bottom: 20px;\">\n",
       "            <h3 style=\"display: inline;\">Workers</h3>\n",
       "        </summary>\n",
       "\n",
       "\n",
       "        <div style=\"margin-bottom: 20px;\">\n",
       "            <div style=\"width: 24px; height: 24px; background-color: #DBF5FF; border: 3px solid #4CC9FF; border-radius: 5px; position: absolute;\"> </div>\n",
       "            <div style=\"margin-left: 48px;\">\n",
       "            <details>\n",
       "                <summary>\n",
       "                    <h4 style=\"margin-bottom: 0px; display: inline;\">Worker: PBSCluster-0-0</h4>\n",
       "                </summary>\n",
       "                <table style=\"width: 100%; text-align: left;\">\n",
       "                    <tr>\n",
       "                        <td style=\"text-align: left;\">\n",
       "                            <strong>Comm: </strong> tcp://10.12.206.57:46296\n",
       "                        </td>\n",
       "                        <td style=\"text-align: left;\">\n",
       "                            <strong>Total threads: </strong> 1\n",
       "                        </td>\n",
       "                    </tr>\n",
       "                    <tr>\n",
       "                        <td style=\"text-align: left;\">\n",
       "                            <strong>Dashboard: </strong> <a href=\"https://jupyterhub.hpc.ucar.edu/stable/user/yeddebba/proxy/43828/status\" target=\"_blank\">https://jupyterhub.hpc.ucar.edu/stable/user/yeddebba/proxy/43828/status</a>\n",
       "                        </td>\n",
       "                        <td style=\"text-align: left;\">\n",
       "                            <strong>Memory: </strong> 27.94 GiB\n",
       "                        </td>\n",
       "                    </tr>\n",
       "                    <tr>\n",
       "                        <td style=\"text-align: left;\">\n",
       "                            <strong>Nanny: </strong> tcp://10.12.206.57:41110\n",
       "                        </td>\n",
       "                        <td style=\"text-align: left;\"></td>\n",
       "                    </tr>\n",
       "                    <tr>\n",
       "                        <td colspan=\"2\" style=\"text-align: left;\">\n",
       "                            <strong>Local directory: </strong> /glade/scratch/yeddebba/tmp/dask-worker-space/worker-hw9ll4o1\n",
       "                        </td>\n",
       "                    </tr>\n",
       "\n",
       "\n",
       "\n",
       "\n",
       "\n",
       "                </table>\n",
       "            </details>\n",
       "            </div>\n",
       "        </div>\n",
       "\n",
       "        <div style=\"margin-bottom: 20px;\">\n",
       "            <div style=\"width: 24px; height: 24px; background-color: #DBF5FF; border: 3px solid #4CC9FF; border-radius: 5px; position: absolute;\"> </div>\n",
       "            <div style=\"margin-left: 48px;\">\n",
       "            <details>\n",
       "                <summary>\n",
       "                    <h4 style=\"margin-bottom: 0px; display: inline;\">Worker: PBSCluster-0-1</h4>\n",
       "                </summary>\n",
       "                <table style=\"width: 100%; text-align: left;\">\n",
       "                    <tr>\n",
       "                        <td style=\"text-align: left;\">\n",
       "                            <strong>Comm: </strong> tcp://10.12.206.57:38109\n",
       "                        </td>\n",
       "                        <td style=\"text-align: left;\">\n",
       "                            <strong>Total threads: </strong> 1\n",
       "                        </td>\n",
       "                    </tr>\n",
       "                    <tr>\n",
       "                        <td style=\"text-align: left;\">\n",
       "                            <strong>Dashboard: </strong> <a href=\"https://jupyterhub.hpc.ucar.edu/stable/user/yeddebba/proxy/36986/status\" target=\"_blank\">https://jupyterhub.hpc.ucar.edu/stable/user/yeddebba/proxy/36986/status</a>\n",
       "                        </td>\n",
       "                        <td style=\"text-align: left;\">\n",
       "                            <strong>Memory: </strong> 27.94 GiB\n",
       "                        </td>\n",
       "                    </tr>\n",
       "                    <tr>\n",
       "                        <td style=\"text-align: left;\">\n",
       "                            <strong>Nanny: </strong> tcp://10.12.206.57:38358\n",
       "                        </td>\n",
       "                        <td style=\"text-align: left;\"></td>\n",
       "                    </tr>\n",
       "                    <tr>\n",
       "                        <td colspan=\"2\" style=\"text-align: left;\">\n",
       "                            <strong>Local directory: </strong> /glade/scratch/yeddebba/tmp/dask-worker-space/worker-l_xg6art\n",
       "                        </td>\n",
       "                    </tr>\n",
       "\n",
       "\n",
       "\n",
       "\n",
       "\n",
       "                </table>\n",
       "            </details>\n",
       "            </div>\n",
       "        </div>\n",
       "\n",
       "        <div style=\"margin-bottom: 20px;\">\n",
       "            <div style=\"width: 24px; height: 24px; background-color: #DBF5FF; border: 3px solid #4CC9FF; border-radius: 5px; position: absolute;\"> </div>\n",
       "            <div style=\"margin-left: 48px;\">\n",
       "            <details>\n",
       "                <summary>\n",
       "                    <h4 style=\"margin-bottom: 0px; display: inline;\">Worker: PBSCluster-0-2</h4>\n",
       "                </summary>\n",
       "                <table style=\"width: 100%; text-align: left;\">\n",
       "                    <tr>\n",
       "                        <td style=\"text-align: left;\">\n",
       "                            <strong>Comm: </strong> tcp://10.12.206.57:32908\n",
       "                        </td>\n",
       "                        <td style=\"text-align: left;\">\n",
       "                            <strong>Total threads: </strong> 1\n",
       "                        </td>\n",
       "                    </tr>\n",
       "                    <tr>\n",
       "                        <td style=\"text-align: left;\">\n",
       "                            <strong>Dashboard: </strong> <a href=\"https://jupyterhub.hpc.ucar.edu/stable/user/yeddebba/proxy/46404/status\" target=\"_blank\">https://jupyterhub.hpc.ucar.edu/stable/user/yeddebba/proxy/46404/status</a>\n",
       "                        </td>\n",
       "                        <td style=\"text-align: left;\">\n",
       "                            <strong>Memory: </strong> 27.94 GiB\n",
       "                        </td>\n",
       "                    </tr>\n",
       "                    <tr>\n",
       "                        <td style=\"text-align: left;\">\n",
       "                            <strong>Nanny: </strong> tcp://10.12.206.57:39293\n",
       "                        </td>\n",
       "                        <td style=\"text-align: left;\"></td>\n",
       "                    </tr>\n",
       "                    <tr>\n",
       "                        <td colspan=\"2\" style=\"text-align: left;\">\n",
       "                            <strong>Local directory: </strong> /glade/scratch/yeddebba/tmp/dask-worker-space/worker-k75jh17d\n",
       "                        </td>\n",
       "                    </tr>\n",
       "\n",
       "\n",
       "\n",
       "\n",
       "\n",
       "                </table>\n",
       "            </details>\n",
       "            </div>\n",
       "        </div>\n",
       "\n",
       "        <div style=\"margin-bottom: 20px;\">\n",
       "            <div style=\"width: 24px; height: 24px; background-color: #DBF5FF; border: 3px solid #4CC9FF; border-radius: 5px; position: absolute;\"> </div>\n",
       "            <div style=\"margin-left: 48px;\">\n",
       "            <details>\n",
       "                <summary>\n",
       "                    <h4 style=\"margin-bottom: 0px; display: inline;\">Worker: PBSCluster-0-3</h4>\n",
       "                </summary>\n",
       "                <table style=\"width: 100%; text-align: left;\">\n",
       "                    <tr>\n",
       "                        <td style=\"text-align: left;\">\n",
       "                            <strong>Comm: </strong> tcp://10.12.206.57:39722\n",
       "                        </td>\n",
       "                        <td style=\"text-align: left;\">\n",
       "                            <strong>Total threads: </strong> 1\n",
       "                        </td>\n",
       "                    </tr>\n",
       "                    <tr>\n",
       "                        <td style=\"text-align: left;\">\n",
       "                            <strong>Dashboard: </strong> <a href=\"https://jupyterhub.hpc.ucar.edu/stable/user/yeddebba/proxy/34240/status\" target=\"_blank\">https://jupyterhub.hpc.ucar.edu/stable/user/yeddebba/proxy/34240/status</a>\n",
       "                        </td>\n",
       "                        <td style=\"text-align: left;\">\n",
       "                            <strong>Memory: </strong> 27.94 GiB\n",
       "                        </td>\n",
       "                    </tr>\n",
       "                    <tr>\n",
       "                        <td style=\"text-align: left;\">\n",
       "                            <strong>Nanny: </strong> tcp://10.12.206.57:38679\n",
       "                        </td>\n",
       "                        <td style=\"text-align: left;\"></td>\n",
       "                    </tr>\n",
       "                    <tr>\n",
       "                        <td colspan=\"2\" style=\"text-align: left;\">\n",
       "                            <strong>Local directory: </strong> /glade/scratch/yeddebba/tmp/dask-worker-space/worker-vnevhk4c\n",
       "                        </td>\n",
       "                    </tr>\n",
       "\n",
       "\n",
       "\n",
       "\n",
       "\n",
       "                </table>\n",
       "            </details>\n",
       "            </div>\n",
       "        </div>\n",
       "\n",
       "        <div style=\"margin-bottom: 20px;\">\n",
       "            <div style=\"width: 24px; height: 24px; background-color: #DBF5FF; border: 3px solid #4CC9FF; border-radius: 5px; position: absolute;\"> </div>\n",
       "            <div style=\"margin-left: 48px;\">\n",
       "            <details>\n",
       "                <summary>\n",
       "                    <h4 style=\"margin-bottom: 0px; display: inline;\">Worker: PBSCluster-0-4</h4>\n",
       "                </summary>\n",
       "                <table style=\"width: 100%; text-align: left;\">\n",
       "                    <tr>\n",
       "                        <td style=\"text-align: left;\">\n",
       "                            <strong>Comm: </strong> tcp://10.12.206.57:32778\n",
       "                        </td>\n",
       "                        <td style=\"text-align: left;\">\n",
       "                            <strong>Total threads: </strong> 1\n",
       "                        </td>\n",
       "                    </tr>\n",
       "                    <tr>\n",
       "                        <td style=\"text-align: left;\">\n",
       "                            <strong>Dashboard: </strong> <a href=\"https://jupyterhub.hpc.ucar.edu/stable/user/yeddebba/proxy/40507/status\" target=\"_blank\">https://jupyterhub.hpc.ucar.edu/stable/user/yeddebba/proxy/40507/status</a>\n",
       "                        </td>\n",
       "                        <td style=\"text-align: left;\">\n",
       "                            <strong>Memory: </strong> 27.94 GiB\n",
       "                        </td>\n",
       "                    </tr>\n",
       "                    <tr>\n",
       "                        <td style=\"text-align: left;\">\n",
       "                            <strong>Nanny: </strong> tcp://10.12.206.57:35463\n",
       "                        </td>\n",
       "                        <td style=\"text-align: left;\"></td>\n",
       "                    </tr>\n",
       "                    <tr>\n",
       "                        <td colspan=\"2\" style=\"text-align: left;\">\n",
       "                            <strong>Local directory: </strong> /glade/scratch/yeddebba/tmp/dask-worker-space/worker-pst9l_vq\n",
       "                        </td>\n",
       "                    </tr>\n",
       "\n",
       "\n",
       "\n",
       "\n",
       "\n",
       "                </table>\n",
       "            </details>\n",
       "            </div>\n",
       "        </div>\n",
       "\n",
       "        <div style=\"margin-bottom: 20px;\">\n",
       "            <div style=\"width: 24px; height: 24px; background-color: #DBF5FF; border: 3px solid #4CC9FF; border-radius: 5px; position: absolute;\"> </div>\n",
       "            <div style=\"margin-left: 48px;\">\n",
       "            <details>\n",
       "                <summary>\n",
       "                    <h4 style=\"margin-bottom: 0px; display: inline;\">Worker: PBSCluster-0-5</h4>\n",
       "                </summary>\n",
       "                <table style=\"width: 100%; text-align: left;\">\n",
       "                    <tr>\n",
       "                        <td style=\"text-align: left;\">\n",
       "                            <strong>Comm: </strong> tcp://10.12.206.57:34403\n",
       "                        </td>\n",
       "                        <td style=\"text-align: left;\">\n",
       "                            <strong>Total threads: </strong> 1\n",
       "                        </td>\n",
       "                    </tr>\n",
       "                    <tr>\n",
       "                        <td style=\"text-align: left;\">\n",
       "                            <strong>Dashboard: </strong> <a href=\"https://jupyterhub.hpc.ucar.edu/stable/user/yeddebba/proxy/44787/status\" target=\"_blank\">https://jupyterhub.hpc.ucar.edu/stable/user/yeddebba/proxy/44787/status</a>\n",
       "                        </td>\n",
       "                        <td style=\"text-align: left;\">\n",
       "                            <strong>Memory: </strong> 27.94 GiB\n",
       "                        </td>\n",
       "                    </tr>\n",
       "                    <tr>\n",
       "                        <td style=\"text-align: left;\">\n",
       "                            <strong>Nanny: </strong> tcp://10.12.206.57:46701\n",
       "                        </td>\n",
       "                        <td style=\"text-align: left;\"></td>\n",
       "                    </tr>\n",
       "                    <tr>\n",
       "                        <td colspan=\"2\" style=\"text-align: left;\">\n",
       "                            <strong>Local directory: </strong> /glade/scratch/yeddebba/tmp/dask-worker-space/worker-nd_qrutm\n",
       "                        </td>\n",
       "                    </tr>\n",
       "\n",
       "\n",
       "\n",
       "\n",
       "\n",
       "                </table>\n",
       "            </details>\n",
       "            </div>\n",
       "        </div>\n",
       "\n",
       "        <div style=\"margin-bottom: 20px;\">\n",
       "            <div style=\"width: 24px; height: 24px; background-color: #DBF5FF; border: 3px solid #4CC9FF; border-radius: 5px; position: absolute;\"> </div>\n",
       "            <div style=\"margin-left: 48px;\">\n",
       "            <details>\n",
       "                <summary>\n",
       "                    <h4 style=\"margin-bottom: 0px; display: inline;\">Worker: PBSCluster-0-6</h4>\n",
       "                </summary>\n",
       "                <table style=\"width: 100%; text-align: left;\">\n",
       "                    <tr>\n",
       "                        <td style=\"text-align: left;\">\n",
       "                            <strong>Comm: </strong> tcp://10.12.206.57:42328\n",
       "                        </td>\n",
       "                        <td style=\"text-align: left;\">\n",
       "                            <strong>Total threads: </strong> 1\n",
       "                        </td>\n",
       "                    </tr>\n",
       "                    <tr>\n",
       "                        <td style=\"text-align: left;\">\n",
       "                            <strong>Dashboard: </strong> <a href=\"https://jupyterhub.hpc.ucar.edu/stable/user/yeddebba/proxy/45623/status\" target=\"_blank\">https://jupyterhub.hpc.ucar.edu/stable/user/yeddebba/proxy/45623/status</a>\n",
       "                        </td>\n",
       "                        <td style=\"text-align: left;\">\n",
       "                            <strong>Memory: </strong> 27.94 GiB\n",
       "                        </td>\n",
       "                    </tr>\n",
       "                    <tr>\n",
       "                        <td style=\"text-align: left;\">\n",
       "                            <strong>Nanny: </strong> tcp://10.12.206.57:39351\n",
       "                        </td>\n",
       "                        <td style=\"text-align: left;\"></td>\n",
       "                    </tr>\n",
       "                    <tr>\n",
       "                        <td colspan=\"2\" style=\"text-align: left;\">\n",
       "                            <strong>Local directory: </strong> /glade/scratch/yeddebba/tmp/dask-worker-space/worker-4fdieawo\n",
       "                        </td>\n",
       "                    </tr>\n",
       "\n",
       "\n",
       "\n",
       "\n",
       "\n",
       "                </table>\n",
       "            </details>\n",
       "            </div>\n",
       "        </div>\n",
       "\n",
       "        <div style=\"margin-bottom: 20px;\">\n",
       "            <div style=\"width: 24px; height: 24px; background-color: #DBF5FF; border: 3px solid #4CC9FF; border-radius: 5px; position: absolute;\"> </div>\n",
       "            <div style=\"margin-left: 48px;\">\n",
       "            <details>\n",
       "                <summary>\n",
       "                    <h4 style=\"margin-bottom: 0px; display: inline;\">Worker: PBSCluster-0-7</h4>\n",
       "                </summary>\n",
       "                <table style=\"width: 100%; text-align: left;\">\n",
       "                    <tr>\n",
       "                        <td style=\"text-align: left;\">\n",
       "                            <strong>Comm: </strong> tcp://10.12.206.57:43359\n",
       "                        </td>\n",
       "                        <td style=\"text-align: left;\">\n",
       "                            <strong>Total threads: </strong> 1\n",
       "                        </td>\n",
       "                    </tr>\n",
       "                    <tr>\n",
       "                        <td style=\"text-align: left;\">\n",
       "                            <strong>Dashboard: </strong> <a href=\"https://jupyterhub.hpc.ucar.edu/stable/user/yeddebba/proxy/35196/status\" target=\"_blank\">https://jupyterhub.hpc.ucar.edu/stable/user/yeddebba/proxy/35196/status</a>\n",
       "                        </td>\n",
       "                        <td style=\"text-align: left;\">\n",
       "                            <strong>Memory: </strong> 27.94 GiB\n",
       "                        </td>\n",
       "                    </tr>\n",
       "                    <tr>\n",
       "                        <td style=\"text-align: left;\">\n",
       "                            <strong>Nanny: </strong> tcp://10.12.206.57:38273\n",
       "                        </td>\n",
       "                        <td style=\"text-align: left;\"></td>\n",
       "                    </tr>\n",
       "                    <tr>\n",
       "                        <td colspan=\"2\" style=\"text-align: left;\">\n",
       "                            <strong>Local directory: </strong> /glade/scratch/yeddebba/tmp/dask-worker-space/worker-o5kj80mx\n",
       "                        </td>\n",
       "                    </tr>\n",
       "\n",
       "\n",
       "\n",
       "\n",
       "\n",
       "                </table>\n",
       "            </details>\n",
       "            </div>\n",
       "        </div>\n",
       "\n",
       "        <div style=\"margin-bottom: 20px;\">\n",
       "            <div style=\"width: 24px; height: 24px; background-color: #DBF5FF; border: 3px solid #4CC9FF; border-radius: 5px; position: absolute;\"> </div>\n",
       "            <div style=\"margin-left: 48px;\">\n",
       "            <details>\n",
       "                <summary>\n",
       "                    <h4 style=\"margin-bottom: 0px; display: inline;\">Worker: PBSCluster-0-8</h4>\n",
       "                </summary>\n",
       "                <table style=\"width: 100%; text-align: left;\">\n",
       "                    <tr>\n",
       "                        <td style=\"text-align: left;\">\n",
       "                            <strong>Comm: </strong> tcp://10.12.206.57:35085\n",
       "                        </td>\n",
       "                        <td style=\"text-align: left;\">\n",
       "                            <strong>Total threads: </strong> 1\n",
       "                        </td>\n",
       "                    </tr>\n",
       "                    <tr>\n",
       "                        <td style=\"text-align: left;\">\n",
       "                            <strong>Dashboard: </strong> <a href=\"https://jupyterhub.hpc.ucar.edu/stable/user/yeddebba/proxy/37618/status\" target=\"_blank\">https://jupyterhub.hpc.ucar.edu/stable/user/yeddebba/proxy/37618/status</a>\n",
       "                        </td>\n",
       "                        <td style=\"text-align: left;\">\n",
       "                            <strong>Memory: </strong> 27.94 GiB\n",
       "                        </td>\n",
       "                    </tr>\n",
       "                    <tr>\n",
       "                        <td style=\"text-align: left;\">\n",
       "                            <strong>Nanny: </strong> tcp://10.12.206.57:44545\n",
       "                        </td>\n",
       "                        <td style=\"text-align: left;\"></td>\n",
       "                    </tr>\n",
       "                    <tr>\n",
       "                        <td colspan=\"2\" style=\"text-align: left;\">\n",
       "                            <strong>Local directory: </strong> /glade/scratch/yeddebba/tmp/dask-worker-space/worker-gjz5i9qn\n",
       "                        </td>\n",
       "                    </tr>\n",
       "\n",
       "\n",
       "\n",
       "\n",
       "\n",
       "                </table>\n",
       "            </details>\n",
       "            </div>\n",
       "        </div>\n",
       "\n",
       "        <div style=\"margin-bottom: 20px;\">\n",
       "            <div style=\"width: 24px; height: 24px; background-color: #DBF5FF; border: 3px solid #4CC9FF; border-radius: 5px; position: absolute;\"> </div>\n",
       "            <div style=\"margin-left: 48px;\">\n",
       "            <details>\n",
       "                <summary>\n",
       "                    <h4 style=\"margin-bottom: 0px; display: inline;\">Worker: PBSCluster-0-9</h4>\n",
       "                </summary>\n",
       "                <table style=\"width: 100%; text-align: left;\">\n",
       "                    <tr>\n",
       "                        <td style=\"text-align: left;\">\n",
       "                            <strong>Comm: </strong> tcp://10.12.206.57:41172\n",
       "                        </td>\n",
       "                        <td style=\"text-align: left;\">\n",
       "                            <strong>Total threads: </strong> 1\n",
       "                        </td>\n",
       "                    </tr>\n",
       "                    <tr>\n",
       "                        <td style=\"text-align: left;\">\n",
       "                            <strong>Dashboard: </strong> <a href=\"https://jupyterhub.hpc.ucar.edu/stable/user/yeddebba/proxy/45668/status\" target=\"_blank\">https://jupyterhub.hpc.ucar.edu/stable/user/yeddebba/proxy/45668/status</a>\n",
       "                        </td>\n",
       "                        <td style=\"text-align: left;\">\n",
       "                            <strong>Memory: </strong> 27.94 GiB\n",
       "                        </td>\n",
       "                    </tr>\n",
       "                    <tr>\n",
       "                        <td style=\"text-align: left;\">\n",
       "                            <strong>Nanny: </strong> tcp://10.12.206.57:34725\n",
       "                        </td>\n",
       "                        <td style=\"text-align: left;\"></td>\n",
       "                    </tr>\n",
       "                    <tr>\n",
       "                        <td colspan=\"2\" style=\"text-align: left;\">\n",
       "                            <strong>Local directory: </strong> /glade/scratch/yeddebba/tmp/dask-worker-space/worker-t4rkl5cq\n",
       "                        </td>\n",
       "                    </tr>\n",
       "\n",
       "\n",
       "\n",
       "\n",
       "\n",
       "                </table>\n",
       "            </details>\n",
       "            </div>\n",
       "        </div>\n",
       "\n",
       "\n",
       "    </details>\n",
       "</div>\n",
       "\n",
       "        </details>\n",
       "    </div>\n",
       "</div>\n",
       "            </details>\n",
       "\n",
       "\n",
       "    </div>\n",
       "</div>"
      ],
      "text/plain": [
       "<Client: 'tcp://10.12.206.46:41962' processes=10 threads=10, memory=279.40 GiB>"
      ]
     },
     "execution_count": 83,
     "metadata": {},
     "output_type": "execute_result"
    }
   ],
   "source": [
    "C"
   ]
  },
  {
   "cell_type": "markdown",
   "metadata": {},
   "source": [
    "\n",
    "\n",
    "- #### Compute Budget Terms using xarray/roll only"
   ]
  },
  {
   "cell_type": "code",
   "execution_count": 84,
   "metadata": {},
   "outputs": [],
   "source": [
    "def pop_budget_roll(ds):\n",
    "    '''function scales and derives budget terms from POP ouputs using simple xarray.roll operations '''\n",
    "    di=xr.Dataset()  \n",
    "    \n",
    "    # Advective terms\n",
    "    di['UE_O2'] = -((ds.UE_O2*ds.VOL) - (ds.UE_O2*ds.VOL).roll(nlon=1, roll_coords=True))\n",
    "    di.UE_O2.attrs['units'] = 'nmol/s'\n",
    "    di['VN_O2'] = -((ds.VN_O2*ds.VOL) - (ds.VN_O2*ds.VOL).roll(nlat=1, roll_coords=True))\n",
    "    di.VN_O2.attrs['units'] = 'nmol/s'\n",
    "    di['WT_O2'] = - (ds.WT_O2*(ds.VOL.drop('z_t').rename({\"z_t\":\"z_w_top\"}).assign_coords(z_w_top=ds.z_w_top))\n",
    "                     - (ds.WT_O2*(ds.VOL.drop('z_t').rename({\"z_t\":\"z_w_top\"}).assign_coords(z_w_top=ds.z_w_top))).shift(z_w_top=-1).fillna(0)\n",
    "                    ).drop('z_w_top').rename({\"z_w_top\":\"z_t\"}).assign_coords(z_t=ds.z_t)\n",
    "    di.WT_O2.attrs['units'] = 'nmol/s'\n",
    "    di['DIV'] = di.UE_O2+di.VN_O2+di.WT_O2\n",
    "    di.DIV.attrs['units'] = 'nmol/s'\n",
    "\n",
    "    # Vertical Mixing:\n",
    "    di['DIA_IMPVF_O2']=  ((ds.DIA_IMPVF_O2*ds.TAREA).shift(z_w_bot=1).fillna(0) - ds.DIA_IMPVF_O2*ds.TAREA).drop('z_w_bot').rename({\"z_w_bot\":\"z_t\"})\n",
    "    di['DIA_IMPVF_O2']= di['DIA_IMPVF_O2'].load()\n",
    "    # Air-sea flux added in surface diffusive flux in upper most cell\n",
    "    di['DIA_IMPVF_O2'][:,0,:,:]=(ds.STF_O2*ds.TAREA - ds.DIA_IMPVF_O2.isel(z_w_bot=0)*ds.TAREA)\n",
    "    di.DIA_IMPVF_O2.attrs['units'] = 'nmol/s'\n",
    "    di['KPP_SRC_O2']=ds.KPP_SRC_O2*ds.VOL\n",
    "    di.KPP_SRC_O2.attrs['units'] = 'nmol/s'\n",
    "    di['VDIF']=di['DIA_IMPVF_O2']+di['KPP_SRC_O2']\n",
    "\n",
    "    # Lateral Diffusion (not available for 0004 hindcast 1960-1990 runs)\n",
    "    if 'HDIFE_O2' in ds.variables:\n",
    "        di['HDIFE_O2'] = ((ds.HDIFE_O2*ds.VOL) - (ds.HDIFE_O2*ds.VOL).roll(nlon=1, roll_coords=True))\n",
    "        di.HDIFE_O2.attrs['units'] = 'nmol/s'\n",
    "        di['HDIFN_O2'] = ((ds.HDIFN_O2*ds.VOL) - (ds.HDIFN_O2*ds.VOL).roll(nlat=1, roll_coords=True))\n",
    "        di.HDIFN_O2.attrs['units'] = 'nmol/s'\n",
    "        di['HDIFB_O2'] = ((ds.HDIFB_O2.drop('z_w_bot').rename({\"z_w_bot\":\"z_t\"})*ds.VOL).shift(z_t=1).fillna(0) - ds.HDIFB_O2.drop('z_w_bot').rename({\"z_w_bot\":\"z_t\"})*ds.VOL)\n",
    "        di[\"HDIFB_O2\"][:, 0, :, :] = -ds.HDIFB_O2.isel(z_w_bot=0)\n",
    "        di.HDIFB_O2.attrs['units'] = 'nmol/s'\n",
    "        di['HDIF'] =di['HDIFE_O2']+di['HDIFN_O2']+di['HDIFB_O2']\n",
    "        di.HDIF.attrs['units'] = 'nmol/s'\n",
    "\n",
    "    # Sources - SInk\n",
    "    if 'J_O2' in ds.variables:\n",
    "        di['J_O2'] =ds.J_O2*ds.VOL \n",
    "    else:\n",
    "        di['J_O2'] =(ds.O2_PRODUCTION-ds.O2_CONSUMPTION)*ds.VOL\n",
    "    di.J_O2.attrs['units'] = 'nmol/s'\n",
    "    \n",
    "    # Tendency\n",
    "    if 'TEND_O2' in ds.variables:\n",
    "        di['TEND_O2'] =ds.TEND_O2*ds.VOL \n",
    "    else:\n",
    "        di['TEND_O2']=di.DIV+di.VDIF+di.HDIF+di.J_O2   \n",
    "    di.TEND_O2.attrs['units'] = 'nmol/s'\n",
    "\n",
    "    return di"
   ]
  },
  {
   "cell_type": "code",
   "execution_count": 85,
   "metadata": {},
   "outputs": [],
   "source": [
    "def VOLM(ds):        \n",
    "    VOL = (ds.dz * ds.DXT* ds.DYT).compute()\n",
    "    ds['VOL']=VOL.compute()\n",
    "    ds.VOL.attrs['long_name'] = 'volume of T cells'\n",
    "    ds.VOL.attrs['units'] = 'centimeter^3'\n",
    "    ds.VOL.attrs['grid_loc'] = '3111'\n",
    "    return ds"
   ]
  },
  {
   "cell_type": "code",
   "execution_count": 86,
   "metadata": {
    "tags": []
   },
   "outputs": [
    {
     "name": "stderr",
     "output_type": "stream",
     "text": [
      "  0%|          | 0/5 [00:00<?, ?it/s]\n",
      "  0%|          | 0/12 [00:00<?, ?it/s]\u001b[A"
     ]
    },
    {
     "name": "stdout",
     "output_type": "stream",
     "text": [
      "loading\n",
      "Calculating Cell Volume\n",
      "Calculating Budget terms\n",
      "Saving\n"
     ]
    },
    {
     "name": "stderr",
     "output_type": "stream",
     "text": [
      "\n",
      "  8%|▊         | 1/12 [00:13<02:25, 13.24s/it]\u001b[A"
     ]
    },
    {
     "name": "stdout",
     "output_type": "stream",
     "text": [
      "Month 01 is done\n",
      "loading\n",
      "Calculating Cell Volume\n",
      "Calculating Budget terms\n",
      "Saving\n"
     ]
    },
    {
     "name": "stderr",
     "output_type": "stream",
     "text": [
      "\n",
      " 17%|█▋        | 2/12 [00:26<02:12, 13.24s/it]\u001b[A"
     ]
    },
    {
     "name": "stdout",
     "output_type": "stream",
     "text": [
      "Month 02 is done\n",
      "loading\n",
      "Calculating Cell Volume\n",
      "Calculating Budget terms\n",
      "Saving\n"
     ]
    },
    {
     "name": "stderr",
     "output_type": "stream",
     "text": [
      "\n",
      " 25%|██▌       | 3/12 [00:40<02:04, 13.82s/it]\u001b[A"
     ]
    },
    {
     "name": "stdout",
     "output_type": "stream",
     "text": [
      "Month 03 is done\n",
      "loading\n",
      "Calculating Cell Volume\n",
      "Calculating Budget terms\n",
      "Saving\n"
     ]
    },
    {
     "name": "stderr",
     "output_type": "stream",
     "text": [
      "\n",
      " 33%|███▎      | 4/12 [00:55<01:53, 14.16s/it]\u001b[A"
     ]
    },
    {
     "name": "stdout",
     "output_type": "stream",
     "text": [
      "Month 04 is done\n",
      "loading\n",
      "Calculating Cell Volume\n",
      "Calculating Budget terms\n",
      "Saving\n"
     ]
    },
    {
     "name": "stderr",
     "output_type": "stream",
     "text": [
      "\n",
      " 42%|████▏     | 5/12 [01:11<01:44, 14.90s/it]\u001b[A"
     ]
    },
    {
     "name": "stdout",
     "output_type": "stream",
     "text": [
      "Month 05 is done\n",
      "loading\n",
      "Calculating Cell Volume\n",
      "Calculating Budget terms\n",
      "Saving\n"
     ]
    },
    {
     "name": "stderr",
     "output_type": "stream",
     "text": [
      "\n",
      " 50%|█████     | 6/12 [01:28<01:32, 15.41s/it]\u001b[A"
     ]
    },
    {
     "name": "stdout",
     "output_type": "stream",
     "text": [
      "Month 06 is done\n",
      "loading\n",
      "Calculating Cell Volume\n",
      "Calculating Budget terms\n",
      "Saving\n"
     ]
    },
    {
     "name": "stderr",
     "output_type": "stream",
     "text": [
      "\n"
     ]
    },
    {
     "name": "stdout",
     "output_type": "stream",
     "text": [
      "Month 07 is done\n"
     ]
    },
    {
     "name": "stderr",
     "output_type": "stream",
     "text": [
      " 58%|█████▊    | 7/12 [02:19<02:15, 27.20s/it]\u001b[A"
     ]
    },
    {
     "name": "stdout",
     "output_type": "stream",
     "text": [
      "loading\n",
      "Calculating Cell Volume\n",
      "Calculating Budget terms\n",
      "Saving\n"
     ]
    },
    {
     "name": "stderr",
     "output_type": "stream",
     "text": [
      "\n",
      " 67%|██████▋   | 8/12 [03:02<02:08, 32.14s/it]\u001b[A"
     ]
    },
    {
     "name": "stdout",
     "output_type": "stream",
     "text": [
      "Month 08 is done\n",
      "loading\n",
      "Calculating Cell Volume\n",
      "Calculating Budget terms\n",
      "Saving\n"
     ]
    },
    {
     "name": "stderr",
     "output_type": "stream",
     "text": [
      "\n",
      " 75%|███████▌  | 9/12 [03:29<01:31, 30.54s/it]\u001b[A"
     ]
    },
    {
     "name": "stdout",
     "output_type": "stream",
     "text": [
      "Month 09 is done\n",
      "loading\n",
      "Calculating Cell Volume\n",
      "Calculating Budget terms\n",
      "Saving\n"
     ]
    },
    {
     "name": "stderr",
     "output_type": "stream",
     "text": [
      "\n",
      " 83%|████████▎ | 10/12 [03:54<00:57, 28.91s/it]\u001b[A"
     ]
    },
    {
     "name": "stdout",
     "output_type": "stream",
     "text": [
      "Month 10 is done\n",
      "loading\n",
      "Calculating Cell Volume\n",
      "Calculating Budget terms\n",
      "Saving\n"
     ]
    },
    {
     "name": "stderr",
     "output_type": "stream",
     "text": [
      "\n",
      " 92%|█████████▏| 11/12 [04:31<00:31, 31.38s/it]\u001b[A"
     ]
    },
    {
     "name": "stdout",
     "output_type": "stream",
     "text": [
      "Month 11 is done\n",
      "loading\n",
      "Calculating Cell Volume\n",
      "Calculating Budget terms\n",
      "Saving\n"
     ]
    },
    {
     "name": "stderr",
     "output_type": "stream",
     "text": [
      "\n",
      "100%|██████████| 12/12 [05:19<00:00, 26.60s/it]\u001b[A"
     ]
    },
    {
     "name": "stdout",
     "output_type": "stream",
     "text": [
      "Month 12 is done\n"
     ]
    },
    {
     "name": "stderr",
     "output_type": "stream",
     "text": [
      "\n",
      " 20%|██        | 1/5 [05:19<21:17, 319.32s/it]\n",
      "  0%|          | 0/12 [00:00<?, ?it/s]\u001b[A"
     ]
    },
    {
     "name": "stdout",
     "output_type": "stream",
     "text": [
      "loading\n",
      "Calculating Cell Volume\n",
      "Calculating Budget terms\n",
      "Saving\n"
     ]
    },
    {
     "name": "stderr",
     "output_type": "stream",
     "text": [
      "\n",
      "  8%|▊         | 1/12 [01:01<11:20, 61.86s/it]\u001b[A"
     ]
    },
    {
     "name": "stdout",
     "output_type": "stream",
     "text": [
      "Month 01 is done\n",
      "loading\n",
      "Calculating Cell Volume\n",
      "Calculating Budget terms\n",
      "Saving\n"
     ]
    },
    {
     "name": "stderr",
     "output_type": "stream",
     "text": [
      "\n",
      " 17%|█▋        | 2/12 [01:50<09:00, 54.04s/it]\u001b[A"
     ]
    },
    {
     "name": "stdout",
     "output_type": "stream",
     "text": [
      "Month 02 is done\n",
      "loading\n",
      "Calculating Cell Volume\n",
      "Calculating Budget terms\n",
      "Saving\n"
     ]
    },
    {
     "name": "stderr",
     "output_type": "stream",
     "text": [
      "\n",
      " 25%|██▌       | 3/12 [02:12<05:55, 39.51s/it]\u001b[A"
     ]
    },
    {
     "name": "stdout",
     "output_type": "stream",
     "text": [
      "Month 03 is done\n",
      "loading\n",
      "Calculating Cell Volume\n",
      "Calculating Budget terms\n",
      "Saving\n"
     ]
    },
    {
     "name": "stderr",
     "output_type": "stream",
     "text": [
      "\n",
      " 33%|███▎      | 4/12 [02:35<04:22, 32.76s/it]\u001b[A"
     ]
    },
    {
     "name": "stdout",
     "output_type": "stream",
     "text": [
      "Month 04 is done\n",
      "loading\n",
      "Calculating Cell Volume\n",
      "Calculating Budget terms\n",
      "Saving\n"
     ]
    },
    {
     "name": "stderr",
     "output_type": "stream",
     "text": [
      "\n",
      " 42%|████▏     | 5/12 [03:19<04:18, 36.86s/it]\u001b[A"
     ]
    },
    {
     "name": "stdout",
     "output_type": "stream",
     "text": [
      "Month 05 is done\n",
      "loading\n",
      "Calculating Cell Volume\n",
      "Calculating Budget terms\n",
      "Saving\n"
     ]
    },
    {
     "name": "stderr",
     "output_type": "stream",
     "text": [
      "\n",
      " 50%|█████     | 6/12 [03:43<03:15, 32.56s/it]\u001b[A"
     ]
    },
    {
     "name": "stdout",
     "output_type": "stream",
     "text": [
      "Month 06 is done\n",
      "loading\n",
      "Calculating Cell Volume\n",
      "Calculating Budget terms\n",
      "Saving\n"
     ]
    },
    {
     "name": "stderr",
     "output_type": "stream",
     "text": [
      "\n",
      " 58%|█████▊    | 7/12 [03:59<02:15, 27.04s/it]\u001b[A"
     ]
    },
    {
     "name": "stdout",
     "output_type": "stream",
     "text": [
      "Month 07 is done\n",
      "loading\n",
      "Calculating Cell Volume\n",
      "Calculating Budget terms\n",
      "Saving\n"
     ]
    },
    {
     "name": "stderr",
     "output_type": "stream",
     "text": [
      "\n",
      " 67%|██████▋   | 8/12 [04:22<01:43, 25.85s/it]\u001b[A"
     ]
    },
    {
     "name": "stdout",
     "output_type": "stream",
     "text": [
      "Month 08 is done\n",
      "loading\n",
      "Calculating Cell Volume\n",
      "Calculating Budget terms\n",
      "Saving\n"
     ]
    },
    {
     "name": "stderr",
     "output_type": "stream",
     "text": [
      "\n",
      " 75%|███████▌  | 9/12 [04:46<01:15, 25.16s/it]\u001b[A"
     ]
    },
    {
     "name": "stdout",
     "output_type": "stream",
     "text": [
      "Month 09 is done\n",
      "loading\n",
      "Calculating Cell Volume\n",
      "Calculating Budget terms\n",
      "Saving\n"
     ]
    },
    {
     "name": "stderr",
     "output_type": "stream",
     "text": [
      "\n",
      " 83%|████████▎ | 10/12 [05:26<00:59, 29.86s/it]\u001b[A"
     ]
    },
    {
     "name": "stdout",
     "output_type": "stream",
     "text": [
      "Month 10 is done\n",
      "loading\n",
      "Calculating Cell Volume\n",
      "Calculating Budget terms\n",
      "Saving\n"
     ]
    },
    {
     "name": "stderr",
     "output_type": "stream",
     "text": [
      "\n",
      " 92%|█████████▏| 11/12 [05:48<00:27, 27.59s/it]\u001b[A"
     ]
    },
    {
     "name": "stdout",
     "output_type": "stream",
     "text": [
      "Month 11 is done\n",
      "loading\n",
      "Calculating Cell Volume\n",
      "Calculating Budget terms\n",
      "Saving\n"
     ]
    },
    {
     "name": "stderr",
     "output_type": "stream",
     "text": [
      "\n",
      "100%|██████████| 12/12 [06:10<00:00, 30.85s/it]\u001b[A\n",
      " 40%|████      | 2/5 [11:29<17:27, 349.31s/it]"
     ]
    },
    {
     "name": "stdout",
     "output_type": "stream",
     "text": [
      "Month 12 is done\n"
     ]
    },
    {
     "name": "stderr",
     "output_type": "stream",
     "text": [
      "\n",
      "  0%|          | 0/12 [00:00<?, ?it/s]\u001b[A"
     ]
    },
    {
     "name": "stdout",
     "output_type": "stream",
     "text": [
      "loading\n",
      "Calculating Cell Volume\n",
      "Calculating Budget terms\n",
      "Saving\n"
     ]
    },
    {
     "name": "stderr",
     "output_type": "stream",
     "text": [
      "\n",
      "  8%|▊         | 1/12 [01:00<11:09, 60.90s/it]\u001b[A"
     ]
    },
    {
     "name": "stdout",
     "output_type": "stream",
     "text": [
      "Month 01 is done\n",
      "loading\n",
      "Calculating Cell Volume\n",
      "Calculating Budget terms\n",
      "Saving\n"
     ]
    },
    {
     "name": "stderr",
     "output_type": "stream",
     "text": [
      "\n",
      " 17%|█▋        | 2/12 [02:13<11:16, 67.69s/it]\u001b[A"
     ]
    },
    {
     "name": "stdout",
     "output_type": "stream",
     "text": [
      "Month 02 is done\n",
      "loading\n",
      "Calculating Cell Volume\n",
      "Calculating Budget terms\n",
      "Saving\n"
     ]
    },
    {
     "name": "stderr",
     "output_type": "stream",
     "text": [
      "\n",
      " 25%|██▌       | 3/12 [02:53<08:16, 55.13s/it]\u001b[A"
     ]
    },
    {
     "name": "stdout",
     "output_type": "stream",
     "text": [
      "Month 03 is done\n",
      "loading\n",
      "Calculating Cell Volume\n",
      "Calculating Budget terms\n",
      "Saving\n"
     ]
    },
    {
     "name": "stderr",
     "output_type": "stream",
     "text": [
      "\n",
      " 33%|███▎      | 4/12 [03:35<06:40, 50.10s/it]\u001b[A"
     ]
    },
    {
     "name": "stdout",
     "output_type": "stream",
     "text": [
      "Month 04 is done\n",
      "loading\n",
      "Calculating Cell Volume\n",
      "Calculating Budget terms\n",
      "Saving\n"
     ]
    },
    {
     "name": "stderr",
     "output_type": "stream",
     "text": [
      "\n",
      " 42%|████▏     | 5/12 [04:16<05:26, 46.68s/it]\u001b[A"
     ]
    },
    {
     "name": "stdout",
     "output_type": "stream",
     "text": [
      "Month 05 is done\n",
      "loading\n",
      "Calculating Cell Volume\n",
      "Calculating Budget terms\n",
      "Saving\n"
     ]
    },
    {
     "name": "stderr",
     "output_type": "stream",
     "text": [
      "\n",
      " 50%|█████     | 6/12 [04:32<03:37, 36.18s/it]\u001b[A"
     ]
    },
    {
     "name": "stdout",
     "output_type": "stream",
     "text": [
      "Month 06 is done\n",
      "loading\n",
      "Calculating Cell Volume\n",
      "Calculating Budget terms\n",
      "Saving\n"
     ]
    },
    {
     "name": "stderr",
     "output_type": "stream",
     "text": [
      "\n",
      " 58%|█████▊    | 7/12 [04:49<02:29, 29.89s/it]\u001b[A"
     ]
    },
    {
     "name": "stdout",
     "output_type": "stream",
     "text": [
      "Month 07 is done\n",
      "loading\n",
      "Calculating Cell Volume\n",
      "Calculating Budget terms\n",
      "Saving\n"
     ]
    },
    {
     "name": "stderr",
     "output_type": "stream",
     "text": [
      "\n",
      " 67%|██████▋   | 8/12 [05:16<01:56, 29.02s/it]"
     ]
    },
    {
     "name": "stdout",
     "output_type": "stream",
     "text": [
      "Month 08 is done\n"
     ]
    },
    {
     "name": "stderr",
     "output_type": "stream",
     "text": [
      "\u001b[A"
     ]
    },
    {
     "name": "stdout",
     "output_type": "stream",
     "text": [
      "loading\n",
      "Calculating Cell Volume\n",
      "Calculating Budget terms\n",
      "Saving\n"
     ]
    },
    {
     "name": "stderr",
     "output_type": "stream",
     "text": [
      "\n",
      " 75%|███████▌  | 9/12 [06:01<01:42, 34.15s/it]\u001b[A"
     ]
    },
    {
     "name": "stdout",
     "output_type": "stream",
     "text": [
      "Month 09 is done\n",
      "loading\n",
      "Calculating Cell Volume\n",
      "Calculating Budget terms\n",
      "Saving\n"
     ]
    },
    {
     "name": "stderr",
     "output_type": "stream",
     "text": [
      "\n",
      " 83%|████████▎ | 10/12 [06:45<01:14, 37.18s/it]\u001b[A"
     ]
    },
    {
     "name": "stdout",
     "output_type": "stream",
     "text": [
      "Month 10 is done\n",
      "loading\n",
      "Calculating Cell Volume\n",
      "Calculating Budget terms\n",
      "Saving\n"
     ]
    },
    {
     "name": "stderr",
     "output_type": "stream",
     "text": [
      "\n",
      " 92%|█████████▏| 11/12 [07:13<00:34, 34.17s/it]\u001b[A"
     ]
    },
    {
     "name": "stdout",
     "output_type": "stream",
     "text": [
      "Month 11 is done\n",
      "loading\n",
      "Calculating Cell Volume\n",
      "Calculating Budget terms\n",
      "Saving\n"
     ]
    },
    {
     "name": "stderr",
     "output_type": "stream",
     "text": [
      "\n"
     ]
    },
    {
     "name": "stdout",
     "output_type": "stream",
     "text": [
      "Month 12 is done\n"
     ]
    },
    {
     "name": "stderr",
     "output_type": "stream",
     "text": [
      "100%|██████████| 12/12 [07:53<00:00, 39.46s/it]\u001b[A\n",
      " 60%|██████    | 3/5 [19:23<13:32, 406.02s/it]\n",
      "  0%|          | 0/12 [00:00<?, ?it/s]\u001b[A"
     ]
    },
    {
     "name": "stdout",
     "output_type": "stream",
     "text": [
      "loading\n",
      "Calculating Cell Volume\n",
      "Calculating Budget terms\n",
      "Saving\n"
     ]
    },
    {
     "name": "stderr",
     "output_type": "stream",
     "text": [
      "\n",
      "  8%|▊         | 1/12 [00:53<09:45, 53.25s/it]\u001b[A"
     ]
    },
    {
     "name": "stdout",
     "output_type": "stream",
     "text": [
      "Month 01 is done\n",
      "loading\n",
      "Calculating Cell Volume\n",
      "Calculating Budget terms\n",
      "Saving\n"
     ]
    },
    {
     "name": "stderr",
     "output_type": "stream",
     "text": [
      "\n",
      " 17%|█▋        | 2/12 [01:30<07:20, 44.01s/it]\u001b[A"
     ]
    },
    {
     "name": "stdout",
     "output_type": "stream",
     "text": [
      "Month 02 is done\n",
      "loading\n",
      "Calculating Cell Volume\n",
      "Calculating Budget terms\n",
      "Saving\n"
     ]
    },
    {
     "name": "stderr",
     "output_type": "stream",
     "text": [
      "\n",
      " 25%|██▌       | 3/12 [02:02<05:43, 38.20s/it]\u001b[A"
     ]
    },
    {
     "name": "stdout",
     "output_type": "stream",
     "text": [
      "Month 03 is done\n",
      "loading\n",
      "Calculating Cell Volume\n",
      "Calculating Budget terms\n",
      "Saving\n"
     ]
    },
    {
     "name": "stderr",
     "output_type": "stream",
     "text": [
      "\n",
      " 33%|███▎      | 4/12 [02:39<05:04, 38.04s/it]\u001b[A"
     ]
    },
    {
     "name": "stdout",
     "output_type": "stream",
     "text": [
      "Month 04 is done\n",
      "loading\n",
      "Calculating Cell Volume\n",
      "Calculating Budget terms\n",
      "Saving\n"
     ]
    },
    {
     "name": "stderr",
     "output_type": "stream",
     "text": [
      "\n",
      " 42%|████▏     | 5/12 [03:12<04:11, 35.99s/it]\u001b[A"
     ]
    },
    {
     "name": "stdout",
     "output_type": "stream",
     "text": [
      "Month 05 is done\n",
      "loading\n",
      "Calculating Cell Volume\n",
      "Calculating Budget terms\n",
      "Saving\n"
     ]
    },
    {
     "name": "stderr",
     "output_type": "stream",
     "text": [
      "\n",
      " 50%|█████     | 6/12 [03:35<03:09, 31.64s/it]\u001b[A"
     ]
    },
    {
     "name": "stdout",
     "output_type": "stream",
     "text": [
      "Month 06 is done\n",
      "loading\n",
      "Calculating Cell Volume\n",
      "Calculating Budget terms\n",
      "Saving\n"
     ]
    },
    {
     "name": "stderr",
     "output_type": "stream",
     "text": [
      "\n",
      " 58%|█████▊    | 7/12 [03:58<02:24, 28.87s/it]\u001b[A"
     ]
    },
    {
     "name": "stdout",
     "output_type": "stream",
     "text": [
      "Month 07 is done\n",
      "loading\n",
      "Calculating Cell Volume\n",
      "Calculating Budget terms\n",
      "Saving\n"
     ]
    },
    {
     "name": "stderr",
     "output_type": "stream",
     "text": [
      "\n",
      " 67%|██████▋   | 8/12 [04:14<01:38, 24.63s/it]\u001b[A"
     ]
    },
    {
     "name": "stdout",
     "output_type": "stream",
     "text": [
      "Month 08 is done\n",
      "loading\n",
      "Calculating Cell Volume\n",
      "Calculating Budget terms\n",
      "Saving\n"
     ]
    },
    {
     "name": "stderr",
     "output_type": "stream",
     "text": [
      "\n",
      " 75%|███████▌  | 9/12 [05:01<01:35, 31.74s/it]\u001b[A"
     ]
    },
    {
     "name": "stdout",
     "output_type": "stream",
     "text": [
      "Month 09 is done\n",
      "loading\n",
      "Calculating Cell Volume\n",
      "Calculating Budget terms\n",
      "Saving\n"
     ]
    },
    {
     "name": "stderr",
     "output_type": "stream",
     "text": [
      "\n",
      " 83%|████████▎ | 10/12 [05:27<01:00, 30.10s/it]\u001b[A"
     ]
    },
    {
     "name": "stdout",
     "output_type": "stream",
     "text": [
      "Month 10 is done\n",
      "loading\n",
      "Calculating Cell Volume\n",
      "Calculating Budget terms\n",
      "Saving\n"
     ]
    },
    {
     "name": "stderr",
     "output_type": "stream",
     "text": [
      "\n",
      " 92%|█████████▏| 11/12 [06:04<00:32, 32.17s/it]"
     ]
    },
    {
     "name": "stdout",
     "output_type": "stream",
     "text": [
      "Month 11 is done\n"
     ]
    },
    {
     "name": "stderr",
     "output_type": "stream",
     "text": [
      "\u001b[A"
     ]
    },
    {
     "name": "stdout",
     "output_type": "stream",
     "text": [
      "loading\n",
      "Calculating Cell Volume\n",
      "Calculating Budget terms\n",
      "Saving\n"
     ]
    },
    {
     "name": "stderr",
     "output_type": "stream",
     "text": [
      "\n",
      "100%|██████████| 12/12 [06:40<00:00, 33.36s/it]\u001b[A\n",
      " 80%|████████  | 4/5 [26:03<06:43, 403.78s/it]"
     ]
    },
    {
     "name": "stdout",
     "output_type": "stream",
     "text": [
      "Month 12 is done\n"
     ]
    },
    {
     "name": "stderr",
     "output_type": "stream",
     "text": [
      "\n",
      "  0%|          | 0/12 [00:00<?, ?it/s]\u001b[A"
     ]
    },
    {
     "name": "stdout",
     "output_type": "stream",
     "text": [
      "loading\n",
      "Calculating Cell Volume\n",
      "Calculating Budget terms\n",
      "Saving\n"
     ]
    },
    {
     "name": "stderr",
     "output_type": "stream",
     "text": [
      "\n",
      "  8%|▊         | 1/12 [00:29<05:22, 29.33s/it]\u001b[A"
     ]
    },
    {
     "name": "stdout",
     "output_type": "stream",
     "text": [
      "Month 01 is done\n",
      "loading\n",
      "Calculating Cell Volume\n",
      "Calculating Budget terms\n",
      "Saving\n"
     ]
    },
    {
     "name": "stderr",
     "output_type": "stream",
     "text": [
      "\n",
      " 17%|█▋        | 2/12 [01:20<07:02, 42.29s/it]\u001b[A"
     ]
    },
    {
     "name": "stdout",
     "output_type": "stream",
     "text": [
      "Month 02 is done\n",
      "loading\n",
      "Calculating Cell Volume\n",
      "Calculating Budget terms\n",
      "Saving\n"
     ]
    },
    {
     "name": "stderr",
     "output_type": "stream",
     "text": [
      "\n",
      " 25%|██▌       | 3/12 [02:02<06:18, 42.08s/it]\u001b[A"
     ]
    },
    {
     "name": "stdout",
     "output_type": "stream",
     "text": [
      "Month 03 is done\n",
      "loading\n",
      "Calculating Cell Volume\n",
      "Calculating Budget terms\n",
      "Saving\n"
     ]
    },
    {
     "name": "stderr",
     "output_type": "stream",
     "text": [
      "\n",
      " 33%|███▎      | 4/12 [02:47<05:47, 43.41s/it]\u001b[A"
     ]
    },
    {
     "name": "stdout",
     "output_type": "stream",
     "text": [
      "Month 04 is done\n",
      "loading\n",
      "Calculating Cell Volume\n",
      "Calculating Budget terms\n",
      "Saving\n"
     ]
    },
    {
     "name": "stderr",
     "output_type": "stream",
     "text": [
      "\n",
      " 42%|████▏     | 5/12 [03:21<04:38, 39.82s/it]\u001b[A"
     ]
    },
    {
     "name": "stdout",
     "output_type": "stream",
     "text": [
      "Month 05 is done\n",
      "loading\n",
      "Calculating Cell Volume\n",
      "Calculating Budget terms\n",
      "Saving\n"
     ]
    },
    {
     "name": "stderr",
     "output_type": "stream",
     "text": [
      "\n",
      " 50%|█████     | 6/12 [03:50<03:36, 36.12s/it]\u001b[A"
     ]
    },
    {
     "name": "stdout",
     "output_type": "stream",
     "text": [
      "Month 06 is done\n",
      "loading\n",
      "Calculating Cell Volume\n",
      "Calculating Budget terms\n",
      "Saving\n"
     ]
    },
    {
     "name": "stderr",
     "output_type": "stream",
     "text": [
      "\n",
      " 58%|█████▊    | 7/12 [04:07<02:29, 29.94s/it]\u001b[A"
     ]
    },
    {
     "name": "stdout",
     "output_type": "stream",
     "text": [
      "Month 07 is done\n",
      "loading\n",
      "Calculating Cell Volume\n",
      "Calculating Budget terms\n",
      "Saving\n"
     ]
    },
    {
     "name": "stderr",
     "output_type": "stream",
     "text": [
      "\n",
      " 67%|██████▋   | 8/12 [04:21<01:39, 24.89s/it]\u001b[A"
     ]
    },
    {
     "name": "stdout",
     "output_type": "stream",
     "text": [
      "Month 08 is done\n",
      "loading\n",
      "Calculating Cell Volume\n",
      "Calculating Budget terms\n",
      "Saving\n"
     ]
    },
    {
     "name": "stderr",
     "output_type": "stream",
     "text": [
      "\n",
      " 75%|███████▌  | 9/12 [04:48<01:16, 25.34s/it]\u001b[A"
     ]
    },
    {
     "name": "stdout",
     "output_type": "stream",
     "text": [
      "Month 09 is done\n",
      "loading\n",
      "Calculating Cell Volume\n",
      "Calculating Budget terms\n",
      "Saving\n"
     ]
    },
    {
     "name": "stderr",
     "output_type": "stream",
     "text": [
      "\n",
      " 83%|████████▎ | 10/12 [05:33<01:02, 31.44s/it]\u001b[A"
     ]
    },
    {
     "name": "stdout",
     "output_type": "stream",
     "text": [
      "Month 10 is done\n",
      "loading\n",
      "Calculating Cell Volume\n",
      "Calculating Budget terms\n",
      "Saving\n"
     ]
    },
    {
     "name": "stderr",
     "output_type": "stream",
     "text": [
      "\n",
      " 92%|█████████▏| 11/12 [06:04<00:31, 31.36s/it]\u001b[A"
     ]
    },
    {
     "name": "stdout",
     "output_type": "stream",
     "text": [
      "Month 11 is done\n",
      "loading\n",
      "Calculating Cell Volume\n",
      "Calculating Budget terms\n",
      "Saving\n"
     ]
    },
    {
     "name": "stderr",
     "output_type": "stream",
     "text": [
      "\n",
      "100%|██████████| 12/12 [07:23<00:00, 36.95s/it]\u001b[A"
     ]
    },
    {
     "name": "stdout",
     "output_type": "stream",
     "text": [
      "Month 12 is done\n"
     ]
    },
    {
     "name": "stderr",
     "output_type": "stream",
     "text": [
      "\n",
      "100%|██████████| 5/5 [33:27<00:00, 401.42s/it]\n"
     ]
    }
   ],
   "source": [
    "month_str=1\n",
    "month_end=13\n",
    "yr_str=1\n",
    "yr_end=6\n",
    "\n",
    "for j in tqdm(np.arange(yr_str,yr_end)):\n",
    "    for i in tqdm(np.arange(month_str,month_end)):\n",
    "        print('loading')\n",
    "        path=f'/glade/scratch/yeddebba/Mesoscale/LR/hist/g.e11.G.T62_g16.eco_x1_analog.001.pop.h.000'+str(j)+'-'+str(i).zfill(2)+'*.nc'\n",
    "        ds = xr.open_mfdataset(path, parallel=True, coords=\"minimal\", data_vars=\"minimal\", compat='override') \n",
    "        keep_vars = ['time_bound', 'time', \n",
    "             'TAREA', 'REGION_MASK','dz',\n",
    "             'z_t','TLAT', 'TLONG','DXT','DYT','KMT',\n",
    "            'UE_O2','VN_O2','WT_O2',\n",
    "            'DIA_IMPVF_O2','KPP_SRC_O2','J_O2',\n",
    "             'HDIFE_O2','HDIFN_O2','HDIFB_O2','STF_O2']\n",
    "        ds = ds[keep_vars].squeeze()\n",
    "        print('Calculating Cell Volume')\n",
    "        ds=VOLM(ds)\n",
    "        print('Calculating Budget terms')\n",
    "        di=pop_budget_roll(ds)\n",
    "        print('Saving')\n",
    "        di.to_netcdf('/glade/scratch/yeddebba/Mesoscale/LR/final_budget/O2_budget_000'+str(j)+'_'+str(i).zfill(2)+'.nc')\n",
    "        print('Month '+str(i).zfill(2)+' is done')"
   ]
  },
  {
   "cell_type": "code",
   "execution_count": null,
   "metadata": {},
   "outputs": [],
   "source": [
    "def adv_lr(ds):\n",
    "    ''' function scales and derives eddy vs mean advective budget terms from POP ouputs using xarray.roll operations '''\n",
    "    di=xr.Dataset()\n",
    "    \n",
    "    # mean Advective terms\n",
    "    U_O2=(0.5 * (ds.UVEL + ds.UVEL.roll(nlat=1))*ds.O2)\n",
    "    V_O2=(0.5 * (ds.VVEL + ds.VVEL.roll(nlon=1))*ds.O2)\n",
    "    W_O2=(ds.WVEL*ds.O2.drop('z_t').rename({\"z_t\":\"z_w_top\"}).assign_coords(z_w_top=ds.z_w_top))\n",
    "\n",
    "    di['U_O2'] = -((U_O2*ds.VOL) - (U_O2*ds.VOL).roll(nlon=1, roll_coords=True))/ds.DXT\n",
    "    di.U_O2.attrs['units'] = 'nmol/s'\n",
    "    di['V_O2'] = -((V_O2*ds.VOL) - (V_O2*ds.VOL).roll(nlat=1, roll_coords=True))/ds.DYT\n",
    "    di.V_O2.attrs['units'] = 'nmol/s'\n",
    "    di['W_O2'] = - (W_O2*(ds.VOL.drop('z_t').rename({\"z_t\":\"z_w_top\"}).assign_coords(z_w_top=ds.z_w_top))\n",
    "                     - (W_O2*(ds.VOL.drop('z_t').rename({\"z_t\":\"z_w_top\"}).assign_coords(z_w_top=ds.z_w_top))).shift(z_w_top=-1).fillna(0)\n",
    "                    ).drop('z_w_top').rename({\"z_w_top\":\"z_t\"}).assign_coords(z_t=ds.z_t)/ds.dz\n",
    "    di.W_O2.attrs['units'] = 'nmol/s'\n",
    "    di['DIVm'] = di.U_O2+di.V_O2+di.W_O2\n",
    "    di.DIVm.attrs['units'] = 'nmol/s'\n",
    "    \n",
    "    return di"
   ]
  },
  {
   "cell_type": "code",
   "execution_count": null,
   "metadata": {},
   "outputs": [],
   "source": [
    "dsh=xr.open_mfdataset('/glade/scratch/yeddebba/Mesoscale/LR/final_budget/O2_budget_000?_??.nc')\n",
    "dsh=volume_LR(dsh)\n",
    "dsh\n",
    "\n",
    "dg = xr.open_mfdataset('/glade/work/yeddebba/grids/POP_gx1v6.nc')\n",
    "\n",
    "dss=xr.open_mfdataset('/glade/scratch/yeddebba/Mesoscale/LR/3D/STF_O2/STF_O2.nc', parallel=True,  data_vars=\"minimal\", coords=\"minimal\", compat='override').groupby('time.month').mean(dim='time')\n",
    "dss['STF_O2']= (dss.STF_O2*dg.TAREA)\n",
    "dss\n",
    "\n",
    "dshm=dsh.groupby('time.month').mean(dim='time')\n",
    "dshm\n",
    "\n",
    "dg = xr.open_mfdataset('/glade/work/yeddebba/grids/POP_gx1v6.nc').isel(z_w=np.arange(0,41),z_t=np.arange(0,41), z_w_top=np.arange(0,41))\n",
    "\n",
    "dv=xr.open_mfdataset({'/glade/scratch/yeddebba/Mesoscale/LR/3D/UVEL/UVEL.nc',\n",
    "                      '/glade/scratch/yeddebba/Mesoscale/LR/3D/VVEL/VVEL.nc',\n",
    "                      '/glade/scratch/yeddebba/Mesoscale/LR/3D/WVEL/WVEL.nc'}).isel(z_w=np.arange(0,41),z_t=np.arange(0,41), z_w_top=np.arange(0,41))\n",
    "dc = xr.open_mfdataset('/glade/scratch/yeddebba/Mesoscale/LR/3D/O2/O2.nc').isel(z_t=np.arange(0,41))\n",
    "dh=xr.Dataset()\n",
    "dh=xr.merge([dc,dv,dg],compat='override')\n",
    "dh=volume_LR(dh)\n",
    "dh\n",
    "\n",
    "dg = xr.open_mfdataset('/glade/work/yeddebba/grids/POP_gx1v6.nc')#.isel(z_w=np.arange(0,41),z_t=np.arange(0,41), z_w_top=np.arange(0,41))\n",
    "\n",
    "dv=xr.open_mfdataset('/glade/scratch/yeddebba/Mesoscale/LR/3D/[UVW]VEL/[UVW]VEL?.nc')#.isel(z_w=np.arange(0,41),z_t=np.arange(0,41), z_w_top=np.arange(0,41))\n",
    "dc = xr.open_mfdataset('/glade/scratch/yeddebba/Mesoscale/LR/3D/O2/O2?.nc')#.isel(z_t=np.arange(0,41))\n",
    "dh=xr.Dataset()\n",
    "dh=xr.merge([dc,dv,dg],compat='override')\n",
    "dh=volume_LR(dh)\n",
    "dh"
   ]
  },
  {
   "cell_type": "code",
   "execution_count": null,
   "metadata": {},
   "outputs": [],
   "source": [
    "dhm=dh.groupby('time.month').mean(dim='time')\n",
    "dhm\n",
    "\n",
    "dhma=adv_lr(dhm)\n",
    "dhma"
   ]
  },
  {
   "cell_type": "code",
   "execution_count": null,
   "metadata": {},
   "outputs": [],
   "source": [
    "/glade/scratch/yeddebba/Mesoscale/LR/dshm.TEND_O2.to_netcdf('final_budget/TEND_Mon_Mean.nc')\n",
    "\n",
    "dshm.DIV.to_netcdf('/glade/scratch/yeddebba/Mesoscale/LR/final_budget/DIV_Mon_Mean.nc')\n",
    "\n",
    "dshm.VDIF.to_netcdf('/glade/scratch/yeddebba/Mesoscale/LR/final_budget/VDIF_Mon_Mean.nc')\n",
    "\n",
    "dshm.HDIF.to_netcdf('/glade/scratch/yeddebba/Mesoscale/LR/final_budget/HDIF_Mon_Mean.nc')\n",
    "\n",
    "dshm.HDIFB_O2.to_netcdf('/glade/scratch/yeddebba/Mesoscale/LR/final_budget/HDIFB_Mon_Mean.nc')\n",
    "\n",
    "dshm.J_O2.to_netcdf('/glade/scratch/yeddebba/Mesoscale/LR/final_budget/J_O2_Mon_Mean.nc')\n",
    "\n",
    "dshm.KPP_SRC_O2.to_netcdf('/glade/scratch/yeddebba/Mesoscale/LR/final_budget/KPP_Mon_Mean.nc')\n",
    "\n",
    "dshm.DIA_IMPVF_O2.to_netcdf('/glade/scratch/yeddebba/Mesoscale/LR/final_budget/DIA_Mon_Mean.nc')\n",
    "\n",
    "dshm.UE_O2.to_netcdf('/glade/scratch/yeddebba/Mesoscale/LR/final_budget/UE_Mon_Mean.nc')\n",
    "\n",
    "dshm.VN_O2.to_netcdf('/glade/scratch/yeddebba/Mesoscale/LR/final_budget/VN_Mon_Mean.nc')\n",
    "\n",
    "dshm.WT_O2.to_netcdf('/glade/scratch/yeddebba/Mesoscale/LR/final_budget/WT_Mon_Mean.nc')\n",
    "\n",
    "dss.STF_O2.to_netcdf('/glade/scratch/yeddebba/Mesoscale/LR/final_budget/STF_O2_Mon_Mean.nc')\n",
    "\n",
    "dhma.U_O2.to_netcdf('/glade/scratch/yeddebba/Mesoscale/LR/final_budget/U_O2_Mon_Mean.nc')\n",
    "dhma.V_O2.to_netcdf('/glade/scratch/yeddebba/Mesoscale/LR/final_budget/V_O2_Mon_Mean.nc')\n",
    "dhma.W_O2.to_netcdf('/glade/scratch/yeddebba/Mesoscale/LR/final_budget/W_O2_Mon_Mean.nc')\n",
    "ds=xr.open_mfdataset('/glade/scratch/yeddebba/Mesoscale/LR/final_budget/?_O2_Mon_Mean.nc')\n",
    "ds['DIVm'] = ds.U_O2+ds.V_O2+ds.W_O2\n",
    "ds.DIVm.attrs['units'] = 'nmol/s'\n",
    "ds.DIVm.to_netcdf('/glade/scratch/yeddebba/Mesoscale/LR/final_budget/DIVm_Mon_Mean.nc')\n",
    "\n",
    "#                       '/glade/scratch/yeddebba/Mesoscale/HR/CLM/O2_Mon_Mean.nc',\n",
    "#                       '/glade/scratch/yeddebba/Mesoscale/HR/CLM/UVEL_Mon_Mean.nc',\n",
    "dv=xr.open_mfdataset('/glade/scratch/yeddebba/Mesoscale/LR/3D/UVEL/UVEL[12345].nc')#.isel(z_w=np.arange(0,41),z_t=np.arange(0,41), z_w_top=np.arange(0,41))\n",
    "\n",
    "dvh=dv.groupby('time.month').mean(dim='time')\n",
    "dvh\n",
    "\n",
    "dvh.UVEL.to_netcdf('/glade/scratch/yeddebba/Mesoscale/LR/CLM/UVEL_Mon_Mean.nc')\n",
    "\n",
    "dvh.VVEL.to_netcdf('/glade/scratch/yeddebba/Mesoscale/LR/CLM/VVEL_Mon_Mean.nc')\n",
    "\n",
    "dvh.WVEL.to_netcdf('/glade/scratch/yeddebba/Mesoscale/LR/CLM/WVEL_Mon_Mean.nc')\n",
    "\n",
    "dch.O2.mean('month').to_netcdf('/glade/scratch/yeddebba/Mesoscale/LR/CLM/O2_Mean.nc')"
   ]
  },
  {
   "cell_type": "code",
   "execution_count": null,
   "metadata": {},
   "outputs": [],
   "source": [
    "dq=xr.open_mfdataset({'/glade/scratch/yeddebba/Mesoscale/LR/final_budget/TEND_Mon_Mean.nc',\n",
    "                      '/glade/scratch/yeddebba/Mesoscale/LR/final_budget/DIV_Mon_Mean.nc',\n",
    "                      '/glade/scratch/yeddebba/Mesoscale/LR/final_budget/VDIF_Mon_Mean.nc',\n",
    "                      '/glade/scratch/yeddebba/Mesoscale/LR/final_budget/HDIF_Mon_Mean.nc',\n",
    "                      '/glade/scratch/yeddebba/Mesoscale/LR/final_budget/HDIFB_Mon_Mean.nc',                      \n",
    "                      '/glade/scratch/yeddebba/Mesoscale/LR/final_budget/J_O2_Mon_Mean.nc',\n",
    "                      '/glade/scratch/yeddebba/Mesoscale/LR/final_budget/UE_Mon_Mean.nc',\n",
    "                      '/glade/scratch/yeddebba/Mesoscale/LR/final_budget/VN_Mon_Mean.nc',\n",
    "                      '/glade/scratch/yeddebba/Mesoscale/LR/final_budget/WT_Mon_Mean.nc',\n",
    "                      '/glade/scratch/yeddebba/Mesoscale/LR/final_budget/STF_O2_Mon_Mean.nc',\n",
    "                      '/glade/scratch/yeddebba/Mesoscale/LR/final_budget/DIVm_Mon_Mean.nc',\n",
    "                      '/glade/scratch/yeddebba/Mesoscale/LR/final_budget/U_O2_Mon_Mean.nc',\n",
    "                      '/glade/scratch/yeddebba/Mesoscale/LR/final_budget/V_O2_Mon_Mean.nc',\n",
    "                      '/glade/scratch/yeddebba/Mesoscale/LR/final_budget/W_O2_Mon_Mean.nc',\n",
    "                     })\n",
    "dq['Up_O2p']=dq.UE_O2-dq.U_O2\n",
    "dq['Vp_O2p']=dq.VN_O2-dq.V_O2\n",
    "dq['Wp_O2p']=dq.WT_O2-dq.W_O2\n",
    "\n",
    "dq['DIVp']=dq.DIV-dq.DIVm\n",
    "\n",
    "dq=xr.merge([dq,dg],compat='override')\n",
    "\n",
    "dq=volume_LR(dq)\n",
    "dq\n",
    "\n",
    "dsh=dq.mean('month').squeeze()\n",
    "dsh\n",
    "\n",
    "dsh.to_netcdf('/glade/scratch/yeddebba/Mesoscale/LR/final_budget/O2_Budget_Mean.nc')\n",
    "\n",
    "dqe=xr.Dataset()\n",
    "dqe['Up_O2p']=dq.UE_O2-dq.U_O2\n",
    "dqe['Vp_O2p']=dq.VN_O2-dq.V_O2\n",
    "dqe['Wp_O2p']=dq.WT_O2-dq.W_O2\n",
    "dqe['DIVp']=dq.DIV-dq.DIVm\n",
    "dqe.to_netcdf('/glade/scratch/yeddebba/Mesoscale/LR/final_budget/O2_Budget_Eddy_Mon_Mean.nc')\n",
    "dshe=dqe.mean('month').squeeze()\n",
    "dshe\n",
    "dshe.to_netcdf('/glade/scratch/yeddebba/Mesoscale/LR/final_budget/O2_Budget_Eddy_Mean.nc')\n",
    "\n",
    "dq.to_netcdf('/glade/scratch/yeddebba/Mesoscale/LR/CLM/Budegt_Mon_Mean.nc')"
   ]
  },
  {
   "cell_type": "code",
   "execution_count": null,
   "metadata": {},
   "outputs": [],
   "source": [
    "\n",
    "\n",
    "\n",
    "\n",
    "\n",
    "\n",
    "\n",
    "\n",
    "\n",
    "\n",
    "\n",
    "\n",
    "\n",
    "\n",
    "\n",
    "\n",
    "\n",
    "\n"
   ]
  },
  {
   "cell_type": "markdown",
   "metadata": {},
   "source": [
    "### Calculates mean advective terms from 5-day mean U and O2 outputs "
   ]
  },
  {
   "cell_type": "code",
   "execution_count": 2,
   "metadata": {},
   "outputs": [],
   "source": [
    "# Functions for calculating advective terms from output U and O2  \n",
    "\n",
    "def adv(ds):\n",
    "    ''' function scales and derives full d(u.O2)  advective budget terms from POP ouputs using xarray.roll operations '''\n",
    "    di=xr.Dataset()\n",
    "    \n",
    "    # mean Advective terms\n",
    "    U_O2=(0.5 * (ds.UVEL + ds.UVEL.roll(nlat=1))*ds.O2)\n",
    "    V_O2=(0.5 * (ds.VVEL + ds.VVEL.roll(nlon=1))*ds.O2)\n",
    "    W_O2=ds.WVEL*ds.O2.drop('z_t').rename({\"z_t\":\"z_w_top\"}).assign_coords(z_w_top=ds.z_w_top)\n",
    "     \n",
    "    di['U_O2'] = -((U_O2*ds.VOL.isel(month=0)) - (U_O2*ds.VOL.isel(month=0)).roll(nlon=1, roll_coords=True))/ds.DXT.isel(month=0)\n",
    "    di.U_O2.attrs['units'] = 'nmol/s'\n",
    "    di['V_O2'] = -((V_O2*ds.VOL.isel(month=0)) - (V_O2*ds.VOL.isel(month=0)).roll(nlat=1, roll_coords=True))/ds.DYT.isel(month=0)\n",
    "    di.V_O2.attrs['units'] = 'nmol/s'\n",
    "    di['W_O2'] = - (W_O2*(ds.VOL.isel(month=0).drop('z_t').rename({\"z_t\":\"z_w_top\"}).assign_coords(z_w_top=ds.z_w_top))\n",
    "                     - (W_O2*(ds.VOL.isel(month=0).drop('z_t').rename({\"z_t\":\"z_w_top\"}).assign_coords(z_w_top=ds.z_w_top))).shift(z_w_top=-1).fillna(0)\n",
    "                    ).drop('z_w_top').rename({\"z_w_top\":\"z_t\"}).assign_coords(z_t=ds.z_t)/ds.dz\n",
    "    di.W_O2.attrs['units'] = 'nmol/s'\n",
    "    di['DIVm'] = di.U_O2+di.V_O2+di.W_O2\n",
    "    di.DIVm.attrs['units'] = 'nmol/s'\n",
    "    \n",
    "    return di\n",
    "\n",
    "def adv_u(ds):\n",
    "    ''' function scales and derives (u.dO2) advective budget terms for monthly means from POP ouputs using xarray.roll operations '''\n",
    "    di=xr.Dataset()\n",
    "    dO2dx = ((ds.O2*ds.VOL.isel(month=0)) - (ds.O2*ds.VOL.isel(month=0)).roll(nlon=1, roll_coords=True))/ds.DXT.isel(month=0)\n",
    "    di['U_dO2'] = -ds.UVEL*dO2dx\n",
    "    di.U_dO2.attrs['units'] = 'nmol/s'\n",
    "\n",
    "    dO2dy = ((ds.O2*ds.VOL.isel(month=0)) - (ds.O2*ds.VOL.isel(month=0)).roll(nlat=1, roll_coords=True))/ds.DYT.isel(month=0)\n",
    "    di['V_dO2'] = -ds.VVEL*dO2dy\n",
    "    di.V_dO2.attrs['units'] = 'nmol/s'\n",
    "\n",
    "    dO2dz = ((ds.O2*ds.VOL.isel(month=0))-(ds.O2*ds.VOL.isel(month=0)).shift(z_t=-1).fillna(0)\n",
    "            )/ds.dz\n",
    "    di['W_dO2'] = -(ds.WVEL*dO2dz).drop('z_w_top').rename({\"z_w_top\":\"z_t\"}).assign_coords(z_t=ds.z_t)\n",
    "    di.W_dO2.attrs['units'] = 'nmol/s'\n",
    "\n",
    "    di['DIVd'] = di.U_dO2+di.V_dO2+di.W_dO2\n",
    "    di.DIVd.attrs['units'] = 'nmol/s'\n",
    "    \n",
    "    return di\n",
    "\n",
    "def adv_ut(ds):\n",
    "    ''' function scales and derives (u.dO2) advective budget terms for 5 day mean POP ouputs using xarray.roll operations '''\n",
    "    di=xr.Dataset()\n",
    "    dO2dx = ((ds.O2*ds.VOL) - (ds.O2*ds.VOL).roll(nlon=1, roll_coords=True))/ds.DXT\n",
    "    di['U_dO2'] = -ds.UVEL*dO2dx\n",
    "    di.U_dO2.attrs['units'] = 'nmol/s'\n",
    "\n",
    "    dO2dy = ((ds.O2*ds.VOL) - (ds.O2*ds.VOL).roll(nlat=1, roll_coords=True))/ds.DYT\n",
    "    di['V_dO2'] = -ds.VVEL*dO2dy\n",
    "    di.V_dO2.attrs['units'] = 'nmol/s'\n",
    "\n",
    "    dO2dz = (((ds.O2*ds.VOL)-(ds.O2*ds.VOL).shift(z_t=-1).fillna(0)\n",
    "            )/ds.dz).drop('z_t').rename({\"z_t\":\"z_w_top\"}).assign_coords(z_w_top=ds.z_w_top)\n",
    "    di['W_dO2'] = -(ds.WVEL*dO2dz).drop('z_w_top').rename({\"z_w_top\":\"z_t\"}).assign_coords(z_t=ds.z_t)\n",
    "    di.W_dO2.attrs['units'] = 'nmol/s'\n",
    "\n",
    "    di['DIVd'] = di.U_dO2+di.V_dO2+di.W_dO2\n",
    "    di.DIVd.attrs['units'] = 'nmol/s'\n",
    "    \n",
    "    return di"
   ]
  },
  {
   "cell_type": "markdown",
   "metadata": {
    "tags": []
   },
   "source": [
    "#### Calculate monthly climatological mean budget terms:\n",
    "\n",
    "$$\n",
    "\\overline{\\frac{\\partial{O_2}}{\\partial{t}}}= \\underbrace{- \\overline{\\frac{\\partial{U.O_2}}{\\partial{x}}} -\\overline{\\frac{\\partial{V.O_2}}{\\partial{y}}}}_\\text{Lateral Advection}\n",
    "- \\overbrace{\\overline{\\frac{\\partial{W.O_2}}{\\partial{z}}}}^\\text{Vertical Advection}\n",
    "+ \\underbrace{\\overline{A_h.\\nabla^2{O_2}}}_\\text{Lateral Mixing}\n",
    "+\\overbrace{\\overline{\\frac{\\partial{}}{\\partial{z}}k.\\frac{\\partial{O_2}}{\\partial{z}}}}^\\text{Vertical Mixing}\n",
    "+ \\underbrace{\\overline{ J(O_2)}  }_\\text{Sources - Sinks}\n",
    "$$\n",
    "\n"
   ]
  },
  {
   "cell_type": "markdown",
   "metadata": {},
   "source": [
    "where the mean $\\overline{X}$ refers to the monthly climatological mean"
   ]
  },
  {
   "cell_type": "code",
   "execution_count": 11,
   "metadata": {
    "tags": []
   },
   "outputs": [],
   "source": [
    "dsh=xr.open_mfdataset('/glade/scratch/yeddebba/Mesoscale/HR/TPAC/final_budget/O2_budget_000?_??.nc')\n",
    "dss=xr.open_mfdataset('/glade/scratch/yeddebba/Mesoscale/HR/TPAC/budgets/STF_O2.000?-??.nc', parallel=True,  data_vars=\"minimal\", coords=\"minimal\", compat='override').groupby('time.month').mean(dim='time')\n",
    "dss['STF_O2']= (dss.STF_O2*dh.TAREA)\n",
    "\n",
    "dshm=dsh.groupby('time.month').mean(dim='time')\n",
    "\n",
    "dshm.TEND_O2.to_netcdf('/glade/scratch/yeddebba/Mesoscale/HR/TPAC/final_budget/TEND_Mon_Mean.nc')\n",
    "dshm.DIV.to_netcdf('/glade/scratch/yeddebba/Mesoscale/HR/TPAC/final_budget/DIV_Mon_Mean.nc')\n",
    "dshm.UE_O2.to_netcdf('/glade/scratch/yeddebba/Mesoscale/HR/TPAC/final_budget/UE_Mon_Mean.nc')\n",
    "dshm.VN_O2.to_netcdf('/glade/scratch/yeddebba/Mesoscale/HR/TPAC/final_budget/VN_Mon_Mean.nc')\n",
    "dshm.WT_O2.to_netcdf('/glade/scratch/yeddebba/Mesoscale/HR/TPAC/final_budget/WT_Mon_Mean.nc')\n",
    "dshm.VDIF.to_netcdf('/glade/scratch/yeddebba/Mesoscale/HR/TPAC/final_budget/VDIF_Mon_Mean.nc')\n",
    "dshm.HDIF.to_netcdf('/glade/scratch/yeddebba/Mesoscale/HR/TPAC/final_budget/HDIF_Mon_Mean.nc')\n",
    "dshm.J_O2.to_netcdf('/glade/scratch/yeddebba/Mesoscale/HR/TPAC/final_budget/J_O2_Mon_Mean.nc')\n",
    "dss.STF_O2.to_netcdf('/glade/scratch/yeddebba/Mesoscale/HR/TPAC/final_budget/STF_O2_Mon_Mean.nc')\n",
    "dshm.KPP_SRC_O2.to_netcdf('/glade/scratch/yeddebba/Mesoscale/HR/TPAC/final_budget/KPP_Mon_Mean.nc')\n",
    "dshm.DIA_IMPVF_O2.to_netcdf('/glade/scratch/yeddebba/Mesoscale/HR/TPAC/final_budget/DIA_Mon_Mean.nc')"
   ]
  },
  {
   "cell_type": "markdown",
   "metadata": {
    "tags": []
   },
   "source": [
    "#### Calculate monthly climatological mean full advective terms:\n",
    "\n",
    "$$\n",
    "-\\nabla.{\\overline{U}\\overline{O2}}= -\\frac{\\partial{\\overline{U}.\\overline{O_2}}}{\\partial{x}}-\\frac{\\partial{\\overline{V}.\\overline{O_2}}}{\\partial{y}}-\\frac{\\partial{\\overline{W}.\\overline{O_2}}}{\\partial{z}}\n",
    "$$\n",
    "\n"
   ]
  },
  {
   "cell_type": "code",
   "execution_count": 101,
   "metadata": {},
   "outputs": [],
   "source": [
    "\n",
    "dg = xr.open_mfdataset('/glade/work/yeddebba/grids/POP_gx1v6.nc').isel(z_w=np.arange(0,41),z_t=np.arange(0,41), z_w_top=np.arange(0,41))\n",
    "\n",
    "dv=xr.open_mfdataset({'/glade/scratch/yeddebba/Mesoscale/LR/3D/UVEL/UVEL.nc',\n",
    "                      '/glade/scratch/yeddebba/Mesoscale/LR/3D/VVEL/VVEL.nc',\n",
    "                      '/glade/scratch/yeddebba/Mesoscale/LR/3D/WVEL/WVEL.nc'}).isel(z_w=np.arange(0,41),z_t=np.arange(0,41), z_w_top=np.arange(0,41))\n",
    "dc = xr.open_mfdataset('/glade/scratch/yeddebba/Mesoscale/LR/3D/O2/O2.nc').isel(z_t=np.arange(0,41))\n",
    "dh=xr.Dataset()\n",
    "dh=xr.merge([dc,dv,dg],compat='override')\n",
    "dh=volume_LR(dh)\n",
    "dh\n",
    "\n",
    "dg = xr.open_mfdataset('/glade/work/yeddebba/grids/POP_gx1v6.nc')#.isel(z_w=np.arange(0,41),z_t=np.arange(0,41), z_w_top=np.arange(0,41))\n",
    "\n",
    "dv=xr.open_mfdataset('/glade/scratch/yeddebba/Mesoscale/LR/3D/[UVW]VEL/[UVW]VEL?.nc')#.isel(z_w=np.arange(0,41),z_t=np.arange(0,41), z_w_top=np.arange(0,41))\n",
    "dc = xr.open_mfdataset('/glade/scratch/yeddebba/Mesoscale/LR/3D/O2/O2?.nc')#.isel(z_t=np.arange(0,41))\n",
    "dh=xr.Dataset()\n",
    "dh=xr.merge([dc,dv,dg],compat='override')\n",
    "dh=volume_LR(dh)\n",
    "dh\n",
    "\n",
    "dhm=dh.groupby('time.month').mean(dim='time')\n",
    "dhma=adv(dhm)\n",
    "\n",
    "dhm.UVEL.to_netcdf('/glade/scratch/yeddebba/Mesoscale/LR/CLM/UVEL_Mon_Mean.nc')\n",
    "dhm.VVEL.to_netcdf('/glade/scratch/yeddebba/Mesoscale/LR/CLM/VVEL_Mon_Mean.nc')\n",
    "dhm.WVEL.to_netcdf('/glade/scratch/yeddebba/Mesoscale/LR/CLM/WVEL_Mon_Mean.nc')\n",
    "dhm.O2.to_netcdf('/glade/scratch/yeddebba/Mesoscale/LR/CLM/O2_Mon_Mean.nc')\n",
    "\n",
    "dhma.DIVm.to_netcdf('/glade/scratch/yeddebba/Mesoscale/LR/final_budget/DIVm_Mon_Mean.nc')\n",
    "dhma.U_O2.to_netcdf('/glade/scratch/yeddebba/Mesoscale/LR/final_budget/U_O2_Mon_Mean.nc')\n",
    "dhma.V_O2.to_netcdf('/glade/scratch/yeddebba/Mesoscale/LR/final_budget/V_O2_Mon_Mean.nc')\n",
    "dhma.W_O2.to_netcdf('/glade/scratch/yeddebba/Mesoscale/LR/final_budget/W_O2_Mon_Mean.nc')"
   ]
  },
  {
   "cell_type": "markdown",
   "metadata": {
    "tags": []
   },
   "source": [
    "### Calculate Longterm Mean"
   ]
  },
  {
   "cell_type": "code",
   "execution_count": 43,
   "metadata": {},
   "outputs": [],
   "source": [
    "dq=xr.open_mfdataset({'/glade/scratch/yeddebba/Mesoscale/LR/final_budget/TEND_Mon_Mean.nc',\n",
    "                      '/glade/scratch/yeddebba/Mesoscale/LR/final_budget/DIV_Mon_Mean.nc',\n",
    "                      '/glade/scratch/yeddebba/Mesoscale/LR/final_budget/VDIF_Mon_Mean.nc',\n",
    "                      '/glade/scratch/yeddebba/Mesoscale/LR/final_budget/HDIF_Mon_Mean.nc',\n",
    "                      '/glade/scratch/yeddebba/Mesoscale/LR/final_budget/HDIFB_Mon_Mean.nc',                      \n",
    "                      '/glade/scratch/yeddebba/Mesoscale/LR/final_budget/J_O2_Mon_Mean.nc',\n",
    "                      '/glade/scratch/yeddebba/Mesoscale/LR/final_budget/UE_Mon_Mean.nc',\n",
    "                      '/glade/scratch/yeddebba/Mesoscale/LR/final_budget/VN_Mon_Mean.nc',\n",
    "                      '/glade/scratch/yeddebba/Mesoscale/LR/final_budget/WT_Mon_Mean.nc',\n",
    "                      '/glade/scratch/yeddebba/Mesoscale/LR/final_budget/STF_O2_Mon_Mean.nc',\n",
    "                      '/glade/scratch/yeddebba/Mesoscale/LR/final_budget/DIVm_Mon_Mean.nc',\n",
    "                      '/glade/scratch/yeddebba/Mesoscale/LR/final_budget/U_O2_Mon_Mean.nc',\n",
    "                      '/glade/scratch/yeddebba/Mesoscale/LR/final_budget/V_O2_Mon_Mean.nc',\n",
    "                      '/glade/scratch/yeddebba/Mesoscale/LR/final_budget/W_O2_Mon_Mean.nc',\n",
    "                     })\n",
    "dq['Up_O2p']=dq.UE_O2-dq.U_O2\n",
    "dq['Vp_O2p']=dq.VN_O2-dq.V_O2\n",
    "dq['Wp_O2p']=dq.WT_O2-dq.W_O2\n",
    "\n",
    "dq['DIVp']=dq.DIV-dq.DIVm\n",
    "\n",
    "dq=xr.merge([dq,dg],compat='override')\n",
    "\n",
    "dq=volume_LR(dq)\n",
    "dq\n",
    "\n",
    "dsh=dq.mean('month').squeeze()\n",
    "dsh\n",
    "\n",
    "dsh.to_netcdf('/glade/scratch/yeddebba/Mesoscale/LR/final_budget/O2_Budget_Mean.nc')\n",
    "\n",
    "dqe=xr.Dataset()\n",
    "dqe['Up_O2p']=dq.UE_O2-dq.U_O2\n",
    "dqe['Vp_O2p']=dq.VN_O2-dq.V_O2\n",
    "dqe['Wp_O2p']=dq.WT_O2-dq.W_O2\n",
    "dqe['DIVp']=dq.DIV-dq.DIVm\n",
    "dqe.to_netcdf('/glade/scratch/yeddebba/Mesoscale/LR/final_budget/O2_Budget_Eddy_Mon_Mean.nc')\n",
    "dshe=dqe.mean('month').squeeze()\n",
    "dshe\n",
    "dshe.to_netcdf('/glade/scratch/yeddebba/Mesoscale/LR/final_budget/O2_Budget_Eddy_Mean.nc')\n",
    "\n",
    "dq.to_netcdf('/glade/scratch/yeddebba/Mesoscale/LR/CLM/Budegt_Mon_Mean.nc')"
   ]
  },
  {
   "cell_type": "markdown",
   "metadata": {
    "tags": []
   },
   "source": [
    "#### Calculate Eddy term using eddy decompostion as residual of mean total full advective terms - mean total full advective terms:\n",
    "\n",
    "$$\n",
    "- \\nabla.{\\overline{U O_2}}=-\\nabla.{\\overline{U}\\space \\overline{O_2}}-\\nabla.{\\overline{U' O_2'}}\n",
    "$$\n",
    "so that \n",
    "\n",
    "$$\n",
    "-\\nabla.{\\overline{U' O_2'}}=- \\nabla.{\\overline{U O_2}}+\\nabla.{\\overline{U}\\space \\overline{O_2}}\n",
    "$$\n",
    "\n",
    "\n"
   ]
  },
  {
   "cell_type": "code",
   "execution_count": null,
   "metadata": {},
   "outputs": [],
   "source": [
    "dqe=xr.Dataset()\n",
    "dqe['Up_O2p']=dq.UE_O2-dq.U_O2\n",
    "dqe['Vp_O2p']=dq.VN_O2-dq.V_O2\n",
    "dqe['Wp_O2p']=dq.WT_O2-dq.W_O2\n",
    "dqe['DIVp']=dq.DIV-dq.DIVm\n",
    "dqe.to_netcdf('/glade/scratch/yeddebba/Mesoscale/HR/TPAC/final_budget/O2_Budget_Eddy_Mon_Mean.nc')\n",
    "\n",
    "dqe.mean('month').to_netcdf('/glade/scratch/yeddebba/Mesoscale/HR/TPAC/final_budget/O2_Budget_Eddy_Mean.nc')"
   ]
  },
  {
   "cell_type": "markdown",
   "metadata": {},
   "source": [
    "### With mass conservation\n",
    "$$\n",
    "\\nabla{U}= 0\n",
    "$$"
   ]
  },
  {
   "cell_type": "markdown",
   "metadata": {},
   "source": [
    "### The mean total advection becomes: \n",
    "$$\n",
    "-\\nabla{.\\overline{U O2}}= -\\overline{U.\\nabla{O2}} \n",
    "$$"
   ]
  },
  {
   "cell_type": "markdown",
   "metadata": {
    "tags": []
   },
   "source": [
    "### Loop through model output and scale/calculate advective (u.dO2dx, v.dO2dy, w.dO2dz) budget terms"
   ]
  },
  {
   "cell_type": "markdown",
   "metadata": {},
   "source": [
    "$$\n",
    "u.\\nabla{O_2}= \\underbrace{- U.\\frac{\\partial{O_2}}{\\partial{x}} -V.\\frac{\\partial{O_2}}{\\partial{y}}}_\\text{Lateral Advection}\n",
    "- \\overbrace{W.\\frac{\\partial{O_2}}{\\partial{z}}}^\\text{Vertical Advection}\n",
    "$$"
   ]
  },
  {
   "cell_type": "code",
   "execution_count": null,
   "metadata": {
    "tags": []
   },
   "outputs": [],
   "source": [
    "month_str=1\n",
    "month_end=13\n",
    "yr_str=1\n",
    "yr_end=6\n",
    "\n",
    "for j in tqdm(np.arange(yr_str,yr_end)):\n",
    "    for i in tqdm(np.arange(month_str,month_end)):\n",
    "        print('loading ...')\n",
    "        path=f'/glade/scratch/yeddebba/Mesoscale/HR/TPAC/O2.000'+str(j)+'-'+str(i).zfill(2)+'.nc'\n",
    "        dc = xr.open_mfdataset(path, parallel=True, coords=\"minimal\", data_vars=\"minimal\", compat='override')\n",
    "        path=f'/glade/scratch/yeddebba/Mesoscale/HR/TPAC/?VEL.000'+str(j)+'-'+str(i).zfill(2)+'.nc'\n",
    "        dv = xr.open_mfdataset(path, parallel=True, coords=\"minimal\", data_vars=\"minimal\", compat='override') \n",
    "        dg = xr.open_dataset('/glade/scratch/yeddebba/Mesoscale/HR/TPAC/POP_GRID_F.nc')\n",
    "        dh=xr.merge([dc,dv,dg])\n",
    "        dh=dh.isel(z_w=np.arange(0,41),z_t=np.arange(0,41),z_w_top=np.arange(0,41)) \n",
    "        print('Calculating Cell Volume')\n",
    "        dh=volume(dh)\n",
    "        print('Calculating Adv Budget terms')\n",
    "        di=adv_ut(dh)\n",
    "        print('Saving')\n",
    "#         di.to_netcdf('/glade/scratch/yeddebba/Mesoscale/HR/TPAC/final_budget/U_dO2_budget_000'+str(j)+'_'+str(i).zfill(2)+'.nc')\n",
    "        print('Saving u_do2dx')    \n",
    "        di.U_dO2.to_netcdf('/glade/scratch/yeddebba/Mesoscale/HR/TPAC/final_budget/U_dO2_budget_000'+str(j)+'_'+str(i).zfill(2)+'.nc')\n",
    "        print('Saving v_do2dy')            \n",
    "        di.V_dO2.to_netcdf('/glade/scratch/yeddebba/Mesoscale/HR/TPAC/final_budget/V_dO2_budget_000'+str(j)+'_'+str(i).zfill(2)+'.nc')\n",
    "        print('Saving w_do2dz')                    \n",
    "        di.W_dO2.to_netcdf('/glade/scratch/yeddebba/Mesoscale/HR/TPAC/final_budget/W_dO2_budget_000'+str(j)+'_'+str(i).zfill(2)+'.nc')\n",
    "        \n",
    "        print('Saving DIVd')                    \n",
    "        dx=xr.open_mfdataset({'/glade/scratch/yeddebba/Mesoscale/HR/TPAC/final_budget/U_dO2_budget_000'+str(j)+'_'+str(i).zfill(2)+'.nc',\n",
    "                      '/glade/scratch/yeddebba/Mesoscale/HR/TPAC/final_budget/V_dO2_budget_000'+str(j)+'_'+str(i).zfill(2)+'.nc',\n",
    "                      '/glade/scratch/yeddebba/Mesoscale/HR/TPAC/final_budget/W_dO2_budget_000'+str(j)+'_'+str(i).zfill(2)+'.nc'})\n",
    "        di['DIVd'] = dx.U_dO2+dx.V_dO2+dx.W_dO2\n",
    "        di.DIVd.attrs['units'] = 'nmol/s'\n",
    "        di.DIVd.to_netcdf('/glade/scratch/yeddebba/Mesoscale/HR/TPAC/final_budget/DIVd_budget_000'+str(j)+'_'+str(i).zfill(2)+'.nc')\n",
    "        print('Month '+str(i).zfill(2)+' is done')\n",
    "\n"
   ]
  },
  {
   "cell_type": "markdown",
   "metadata": {},
   "source": [
    "### And the eddy flux is calculated as a residual in this reynolds decompsotion:\n",
    "$$\n",
    "\\overline{-U.\\nabla{O_2}} = -\\overline{U} . \\nabla{\\overline{O_2}}-\\overline{U'.\\nabla{O_2'}} \n",
    "$$"
   ]
  },
  {
   "cell_type": "markdown",
   "metadata": {
    "tags": []
   },
   "source": [
    "### So We calculate the mean total advective terms: \n",
    "\n",
    "$$\n",
    "\\overline{-U.\\nabla{O_2}} = -\\overline{U.\\frac{\\partial{O_2}}{\\partial{x}}} - \\overline{V.\\frac{\\partial{O_2}}{\\partial{y}}}-\\overline{W.\\frac{\\partial{O_2}}{\\partial{z}}} \n",
    "$$\n",
    "\n",
    "where the mean, $\\overline{X}$, refers to the monthly climatological mean"
   ]
  },
  {
   "cell_type": "code",
   "execution_count": 23,
   "metadata": {},
   "outputs": [],
   "source": [
    "# Load all 5 day mean advective terms u.dO2 and calculate monthly means and longterm means \n",
    "dsh=xr.open_mfdataset('/glade/scratch/yeddebba/Mesoscale/HR/TPAC/final_budget/U_dO2_budget_000?_??.nc')\n",
    "dshm=dsh.groupby('time.month').mean(dim='time')\n",
    "dshm.U_dO2.to_netcdf('/glade/scratch/yeddebba/Mesoscale/HR/TPAC/final_budget/U_dO2m_Mon_Mean.nc')\n",
    "dshm.U_dO2.mean('month').to_netcdf('/glade/scratch/yeddebba/Mesoscale/HR/TPAC/final_budget/U_dO2m_Mean.nc')\n",
    "\n",
    "dsh=xr.open_mfdataset('/glade/scratch/yeddebba/Mesoscale/HR/TPAC/final_budget/V_dO2_budget_000?_??.nc')\n",
    "dshm=dsh.groupby('time.month').mean(dim='time')\n",
    "dshm.V_dO2.to_netcdf('/glade/scratch/yeddebba/Mesoscale/HR/TPAC/final_budget/V_dO2m_Mon_Mean.nc')\n",
    "dshm.V_dO2.mean('month').to_netcdf('/glade/scratch/yeddebba/Mesoscale/HR/TPAC/final_budget/V_dO2m_Mean.nc')\n",
    "\n",
    "dsh=xr.open_mfdataset('/glade/scratch/yeddebba/Mesoscale/HR/TPAC/final_budget/W_dO2_budget_000?_??.nc')\n",
    "dshm=dsh.groupby('time.month').mean(dim='time')\n",
    "dshm.W_dO2.to_netcdf('/glade/scratch/yeddebba/Mesoscale/HR/TPAC/final_budget/W_dO2m_Mon_Mean.nc')\n",
    "dshm.W_dO2.mean('month').to_netcdf('/glade/scratch/yeddebba/Mesoscale/HR/TPAC/final_budget/W_dO2m_Mean.nc')\n",
    "\n",
    "dsh=xr.open_mfdataset('/glade/scratch/yeddebba/Mesoscale/HR/TPAC/final_budget/DIVd_budget_000?_??.nc')\n",
    "dshm=dsh.groupby('time.month').mean(dim='time')\n",
    "dshm.DIVd.to_netcdf('/glade/scratch/yeddebba/Mesoscale/HR/TPAC/final_budget/DIVdm_Mon_Mean.nc')\n",
    "dshm.DIVd.mean('month').to_netcdf('/glade/scratch/yeddebba/Mesoscale/HR/TPAC/final_budget/DIVdm_Mean.nc')"
   ]
  },
  {
   "cell_type": "markdown",
   "metadata": {
    "tags": []
   },
   "source": [
    "### and calculate the mean advective terms: \n",
    "\n",
    "$$\n",
    "-\\overline{U}.\\nabla{\\overline{O_2}} = -\\overline{U}.\\frac{\\partial{\\overline{O_2}}}{\\partial{x}} -\\overline{V}.\\frac{\\partial{\\overline{O_2}}}{\\partial{y}} -\\overline{W}.\\frac{\\partial{\\overline{O_2}}}{\\partial{z}}\n",
    "$$\n",
    "\n",
    "where the mean, $\\overline{X}$, refers to the monthly climatological mean"
   ]
  },
  {
   "cell_type": "code",
   "execution_count": null,
   "metadata": {},
   "outputs": [],
   "source": [
    "dv=xr.open_mfdataset('/glade/scratch/yeddebba/Mesoscale/HR/TPAC/?VEL.000?-??.nc')\n",
    "dc = xr.open_mfdataset('/glade/scratch/yeddebba/Mesoscale/HR/TPAC/O2.000?-??.nc')\n",
    "dg = xr.open_dataset('/glade/scratch/yeddebba/Mesoscale/HR/TPAC/POP_GRID_F.nc')\n",
    "dh=xr.Dataset()\n",
    "dh=xr.merge([dc,dv,dg],compat='override')\n",
    "dh=dh.isel(z_w=np.arange(0,41),z_t=np.arange(0,41), z_w_top=np.arange(0,41))\n",
    "dh=volume(dh)\n",
    "\n",
    "ds=dh.groupby('time.month').mean(dim='time')\n",
    "dsa=adv_u(ds)\n",
    "\n",
    "dsa.U_dO2.to_netcdf('/glade/scratch/yeddebba/Mesoscale/HR/TPAC/final_budget/U_dO2_Mon_Mean.nc')\n",
    "dsa.V_dO2.to_netcdf('/glade/scratch/yeddebba/Mesoscale/HR/TPAC/final_budget/V_dO2_Mon_Mean.nc')\n",
    "dsa.W_dO2.to_netcdf('/glade/scratch/yeddebba/Mesoscale/HR/TPAC/final_budget/W_dO2_Mon_Mean.nc')"
   ]
  },
  {
   "cell_type": "code",
   "execution_count": 138,
   "metadata": {
    "tags": []
   },
   "outputs": [],
   "source": [
    "dr=xr.open_mfdataset({'/glade/scratch/yeddebba/Mesoscale/HR/TPAC/final_budget/U_dO2_Mon_Mean.nc',})\n",
    "dr.U_dO2.mean('month').to_netcdf('/glade/scratch/yeddebba/Mesoscale/HR/TPAC/final_budget/U_dO2_Mean.nc')\n",
    "\n",
    "dr=xr.open_mfdataset({'/glade/scratch/yeddebba/Mesoscale/HR/TPAC/final_budget/V_dO2_Mon_Mean.nc',})\n",
    "dr.V_dO2.mean('month').to_netcdf('/glade/scratch/yeddebba/Mesoscale/HR/TPAC/final_budget/V_dO2_Mean.nc')\n",
    "\n",
    "dr=xr.open_mfdataset({'/glade/scratch/yeddebba/Mesoscale/HR/TPAC/final_budget/W_dO2_Mon_Mean.nc',})\n",
    "dr.W_dO2.mean('month').to_netcdf('/glade/scratch/yeddebba/Mesoscale/HR/TPAC/final_budget/W_dO2_Mean.nc')"
   ]
  },
  {
   "cell_type": "code",
   "execution_count": 158,
   "metadata": {
    "tags": []
   },
   "outputs": [],
   "source": [
    "dss1=xr.open_mfdataset({'/glade/scratch/yeddebba/Mesoscale/HR/TPAC/final_budget/U_dO2_Mon_Mean.nc',})\n",
    "dss2=xr.open_mfdataset({'/glade/scratch/yeddebba/Mesoscale/HR/TPAC/final_budget/V_dO2_Mon_Mean.nc',})\n",
    "dss3=xr.open_mfdataset({'/glade/scratch/yeddebba/Mesoscale/HR/TPAC/final_budget/W_dO2_Mon_Mean.nc',})\n",
    "\n",
    "dy=xr.Dataset()\n",
    "dy['DIVdh'] = (dss1.U_dO2+dss2.V_dO2)\n",
    "dy.DIVdh.to_netcdf('/glade/scratch/yeddebba/Mesoscale/HR/TPAC/final_budget/DIVdh_Mon_Mean.nc')\n",
    "\n",
    "dss4=xr.open_mfdataset({'/glade/scratch/yeddebba/Mesoscale/HR/TPAC/final_budget/DIVdh_Mon_Mean.nc',})\n",
    "dy['DIVd'] =dss4.DIVdh +dss3.W_dO2\n",
    "dy.DIVd.attrs['units'] = 'nmol/s'\n",
    "dy.DIVd.to_netcdf('/glade/scratch/yeddebba/Mesoscale/HR/TPAC/final_budget/DIVd_Mon_Mean.nc')"
   ]
  },
  {
   "cell_type": "code",
   "execution_count": 70,
   "metadata": {
    "tags": []
   },
   "outputs": [],
   "source": [
    "dr=xr.open_mfdataset({'/glade/scratch/yeddebba/Mesoscale/HR/TPAC/final_budget/U_dO2_Mon_Mean.nc',\n",
    "                        '/glade/scratch/yeddebba/Mesoscale/HR/TPAC/final_budget/V_dO2_Mon_Mean.nc',\n",
    "                        '/glade/scratch/yeddebba/Mesoscale/HR/TPAC/final_budget/W_dO2_Mon_Mean.nc',\n",
    "                      '/glade/scratch/yeddebba/Mesoscale/HR/TPAC/final_budget/DIVd_Mon_Mean.nc'})\n",
    "\n",
    "dr.U_dO2.mean('month').to_netcdf('/glade/scratch/yeddebba/Mesoscale/HR/TPAC/final_budget/U_dO2_Mean.nc')\n",
    "dr.V_dO2.mean('month').to_netcdf('/glade/scratch/yeddebba/Mesoscale/HR/TPAC/final_budget/V_dO2_Mean.nc') \n",
    "dr.W_dO2.mean('month').to_netcdf('/glade/scratch/yeddebba/Mesoscale/HR/TPAC/final_budget/W_dO2_Mean.nc') \n",
    "dr.DIVd.mean('month').to_netcdf('/glade/scratch/yeddebba/Mesoscale/HR/TPAC/final_budget/DIVd_Mean.nc') "
   ]
  },
  {
   "cell_type": "markdown",
   "metadata": {},
   "source": [
    "### And the eddy flux is calculated as a residual in this reynolds decompsotion:\n",
    "$$\n",
    "-\\overline{U'.\\nabla{O_2'}} = - \\overline{U.\\nabla{O_2}} + \\overline{U} . \\nabla{\\overline{O_2}}\n",
    "$$"
   ]
  },
  {
   "cell_type": "code",
   "execution_count": 71,
   "metadata": {},
   "outputs": [],
   "source": [
    "dud=xr.open_mfdataset({'/glade/scratch/yeddebba/Mesoscale/HR/TPAC/final_budget/U_dO2_Mon_Mean.nc',\n",
    "                        '/glade/scratch/yeddebba/Mesoscale/HR/TPAC/final_budget/V_dO2_Mon_Mean.nc',\n",
    "                        '/glade/scratch/yeddebba/Mesoscale/HR/TPAC/final_budget/W_dO2_Mon_Mean.nc',\n",
    "                      '/glade/scratch/yeddebba/Mesoscale/HR/TPAC/final_budget/DIVd_Mon_Mean.nc'})\n",
    "dudm=xr.open_mfdataset({'/glade/scratch/yeddebba/Mesoscale/HR/TPAC/final_budget/U_dO2m_Mon_Mean.nc',\n",
    "                        '/glade/scratch/yeddebba/Mesoscale/HR/TPAC/final_budget/V_dO2m_Mon_Mean.nc',\n",
    "                        '/glade/scratch/yeddebba/Mesoscale/HR/TPAC/final_budget/W_dO2m_Mon_Mean.nc',\n",
    "                      '/glade/scratch/yeddebba/Mesoscale/HR/TPAC/final_budget/DIVdm_Mon_Mean.nc'})\n",
    "\n",
    "dqe=xr.Dataset()\n",
    "dqe['Up_dO2p']=dudm.U_dO2-dud.U_dO2\n",
    "dqe['Vp_dO2p']=dudm.V_dO2-dud.V_dO2\n",
    "dqe['Wp_dO2p']=dudm.W_dO2-dud.W_dO2\n",
    "dqe['DIVdp']=dudm.DIVd-dud.DIVd\n",
    "\n",
    "dqe.to_netcdf('/glade/scratch/yeddebba/Mesoscale/HR/TPAC/final_budget/DIVde_Mon_Mean.nc')\n",
    "dqe=xr.open_mfdataset('/glade/scratch/yeddebba/Mesoscale/HR/TPAC/final_budget/DIVde_Mon_Mean.nc')\n",
    "dqe.mean('month').to_netcdf('/glade/scratch/yeddebba/Mesoscale/HR/TPAC/final_budget/DIVde_Mean.nc')"
   ]
  }
 ],
 "metadata": {
  "kernelspec": {
   "display_name": "Python [conda env:miniconda3-omz_env]",
   "language": "python",
   "name": "conda-env-miniconda3-omz_env-py"
  },
  "language_info": {
   "codemirror_mode": {
    "name": "ipython",
    "version": 3
   },
   "file_extension": ".py",
   "mimetype": "text/x-python",
   "name": "python",
   "nbconvert_exporter": "python",
   "pygments_lexer": "ipython3",
   "version": "3.8.12"
  }
 },
 "nbformat": 4,
 "nbformat_minor": 4
}