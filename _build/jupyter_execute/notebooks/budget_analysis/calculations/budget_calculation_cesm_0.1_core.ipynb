{
 "cells": [
  {
   "cell_type": "markdown",
   "id": "b1abaf8e-7cc5-42ce-9ce7-ed0fad6deeee",
   "metadata": {},
   "source": [
    "This notebook computes the O$_2$ budget from POP output. Dissolved oxygen in the ocean's interior is simulated following:\n",
    "\n",
    "$$\n",
    "\\frac{\\partial{O_2}}{\\partial{t}}= \\underbrace{- \\frac{\\partial{U.O_2}}{\\partial{x}} -\\frac{\\partial{V.O_2}}{\\partial{y}}}_\\text{Lateral Advection}\n",
    "- \\overbrace{\\frac{\\partial{W.O_2}}{\\partial{z}}}^\\text{Vertical Advection}\n",
    "+ \\underbrace{A_h.\\nabla^2{O_2}}_\\text{Lateral Mixing}\n",
    "+\\overbrace{\\frac{\\partial{}}{\\partial{z}}k.\\frac{\\partial{O_2}}{\\partial{z}}}^\\text{Vertical Mixing}\n",
    "+ \\underbrace{ J(O_2)  }_\\text{Sources - Sinks}\n",
    "$$"
   ]
  },
  {
   "cell_type": "code",
   "execution_count": 9,
   "id": "c5c7413d-8ce2-4c13-9ad8-2800793f923a",
   "metadata": {},
   "outputs": [
    {
     "name": "stdout",
     "output_type": "stream",
     "text": [
      "The autoreload extension is already loaded. To reload it, use:\n",
      "  %reload_ext autoreload\n"
     ]
    }
   ],
   "source": [
    "%load_ext autoreload\n",
    "%autoreload 2\n",
    "%matplotlib inline\n",
    "import warnings\n",
    "warnings.simplefilter(\"ignore\") \n",
    "\n",
    "import xarray as xr\n",
    "import numpy as np\n",
    "from tqdm import tqdm\n",
    "\n",
    "import pop_tools\n",
    "import xgcm \n",
    "\n",
    "from utils import *"
   ]
  },
  {
   "cell_type": "code",
   "execution_count": 59,
   "id": "1ed2b972-0e81-40b5-b6ce-edea5445cde7",
   "metadata": {},
   "outputs": [],
   "source": [
    "C=CLSTR(1,30,500,30)"
   ]
  },
  {
   "cell_type": "code",
   "execution_count": 11,
   "id": "21094ae2-b4b1-4234-83a5-1ca26cde49d4",
   "metadata": {},
   "outputs": [
    {
     "data": {
      "text/html": [
       "<div>\n",
       "    <div style=\"width: 24px; height: 24px; background-color: #e1e1e1; border: 3px solid #9D9D9D; border-radius: 5px; position: absolute;\"> </div>\n",
       "    <div style=\"margin-left: 48px;\">\n",
       "        <h3 style=\"margin-bottom: 0px;\">Client</h3>\n",
       "        <p style=\"color: #9D9D9D; margin-bottom: 0px;\">Client-ca7fad3d-587e-11ec-9eb2-3cecef1acb68</p>\n",
       "        <table style=\"width: 100%; text-align: left;\">\n",
       "\n",
       "        <tr>\n",
       "\n",
       "            <td style=\"text-align: left;\"><strong>Connection method:</strong> Cluster object</td>\n",
       "            <td style=\"text-align: left;\"><strong>Cluster type:</strong> dask_jobqueue.PBSCluster</td>\n",
       "\n",
       "        </tr>\n",
       "\n",
       "\n",
       "            <tr>\n",
       "                <td style=\"text-align: left;\">\n",
       "                    <strong>Dashboard: </strong> <a href=\"https://jupyterhub.hpc.ucar.edu/stable/user/yeddebba/proxy/44835/status\" target=\"_blank\">https://jupyterhub.hpc.ucar.edu/stable/user/yeddebba/proxy/44835/status</a>\n",
       "                </td>\n",
       "                <td style=\"text-align: left;\"></td>\n",
       "            </tr>\n",
       "\n",
       "\n",
       "        </table>\n",
       "\n",
       "\n",
       "            <details>\n",
       "            <summary style=\"margin-bottom: 20px;\"><h3 style=\"display: inline;\">Cluster Info</h3></summary>\n",
       "            <div class=\"jp-RenderedHTMLCommon jp-RenderedHTML jp-mod-trusted jp-OutputArea-output\">\n",
       "    <div style=\"width: 24px; height: 24px; background-color: #e1e1e1; border: 3px solid #9D9D9D; border-radius: 5px; position: absolute;\">\n",
       "    </div>\n",
       "    <div style=\"margin-left: 48px;\">\n",
       "        <h3 style=\"margin-bottom: 0px; margin-top: 0px;\">PBSCluster</h3>\n",
       "        <p style=\"color: #9D9D9D; margin-bottom: 0px;\">a6dd6ac9</p>\n",
       "        <table style=\"width: 100%; text-align: left;\">\n",
       "            <tr>\n",
       "                <td style=\"text-align: left;\">\n",
       "                    <strong>Dashboard:</strong> <a href=\"https://jupyterhub.hpc.ucar.edu/stable/user/yeddebba/proxy/44835/status\" target=\"_blank\">https://jupyterhub.hpc.ucar.edu/stable/user/yeddebba/proxy/44835/status</a>\n",
       "                </td>\n",
       "                <td style=\"text-align: left;\">\n",
       "                    <strong>Workers:</strong> 0\n",
       "                </td>\n",
       "            </tr>\n",
       "            <tr>\n",
       "                <td style=\"text-align: left;\">\n",
       "                    <strong>Total threads:</strong> 0\n",
       "                </td>\n",
       "                <td style=\"text-align: left;\">\n",
       "                    <strong>Total memory:</strong> 0 B\n",
       "                </td>\n",
       "            </tr>\n",
       "\n",
       "        </table>\n",
       "\n",
       "        <details>\n",
       "            <summary style=\"margin-bottom: 20px;\">\n",
       "                <h3 style=\"display: inline;\">Scheduler Info</h3>\n",
       "            </summary>\n",
       "\n",
       "            <div style=\"\">\n",
       "    <div>\n",
       "        <div style=\"width: 24px; height: 24px; background-color: #FFF7E5; border: 3px solid #FF6132; border-radius: 5px; position: absolute;\"> </div>\n",
       "        <div style=\"margin-left: 48px;\">\n",
       "            <h3 style=\"margin-bottom: 0px;\">Scheduler</h3>\n",
       "            <p style=\"color: #9D9D9D; margin-bottom: 0px;\">Scheduler-bed31166-7944-4eb4-8b11-e0358bff3b2b</p>\n",
       "            <table style=\"width: 100%; text-align: left;\">\n",
       "                <tr>\n",
       "                    <td style=\"text-align: left;\">\n",
       "                        <strong>Comm:</strong> tcp://10.12.206.46:38359\n",
       "                    </td>\n",
       "                    <td style=\"text-align: left;\">\n",
       "                        <strong>Workers:</strong> 0\n",
       "                    </td>\n",
       "                </tr>\n",
       "                <tr>\n",
       "                    <td style=\"text-align: left;\">\n",
       "                        <strong>Dashboard:</strong> <a href=\"https://jupyterhub.hpc.ucar.edu/stable/user/yeddebba/proxy/44835/status\" target=\"_blank\">https://jupyterhub.hpc.ucar.edu/stable/user/yeddebba/proxy/44835/status</a>\n",
       "                    </td>\n",
       "                    <td style=\"text-align: left;\">\n",
       "                        <strong>Total threads:</strong> 0\n",
       "                    </td>\n",
       "                </tr>\n",
       "                <tr>\n",
       "                    <td style=\"text-align: left;\">\n",
       "                        <strong>Started:</strong> Just now\n",
       "                    </td>\n",
       "                    <td style=\"text-align: left;\">\n",
       "                        <strong>Total memory:</strong> 0 B\n",
       "                    </td>\n",
       "                </tr>\n",
       "            </table>\n",
       "        </div>\n",
       "    </div>\n",
       "\n",
       "    <details style=\"margin-left: 48px;\">\n",
       "        <summary style=\"margin-bottom: 20px;\">\n",
       "            <h3 style=\"display: inline;\">Workers</h3>\n",
       "        </summary>\n",
       "\n",
       "\n",
       "\n",
       "    </details>\n",
       "</div>\n",
       "\n",
       "        </details>\n",
       "    </div>\n",
       "</div>\n",
       "            </details>\n",
       "\n",
       "\n",
       "    </div>\n",
       "</div>"
      ],
      "text/plain": [
       "<Client: 'tcp://10.12.206.46:38359' processes=0 threads=0, memory=0 B>"
      ]
     },
     "execution_count": 11,
     "metadata": {},
     "output_type": "execute_result"
    }
   ],
   "source": [
    "C"
   ]
  },
  {
   "cell_type": "markdown",
   "id": "1b925717-7c93-49e7-b1cc-b61de852e31e",
   "metadata": {},
   "source": [
    "### Calculate Cell Volume for weighted averages and scaling  "
   ]
  },
  {
   "cell_type": "code",
   "execution_count": null,
   "id": "a2a146be-3e99-4857-9bd0-77790a997ce0",
   "metadata": {},
   "outputs": [],
   "source": [
    "def volume(ds):\n",
    "    '''Calculate Cell Volume'''\n",
    "    \n",
    "    VOL = (ds.DZT * ds.DXT* ds.DYT).compute()\n",
    "    KMT = ds.KMT.compute()\n",
    "\n",
    "    for j in range(len(KMT.nlat)):\n",
    "        for i in range(len(KMT.nlon)):\n",
    "            k = KMT.values[j,i].astype(int)\n",
    "            VOL.values[k:,j,i] = 0.\n",
    "\n",
    "    ds['VOL']=VOL\n",
    "    ds.VOL.attrs['long_name'] = 'volume of T cells'\n",
    "    ds.VOL.attrs['units'] = 'centimeter^3'\n",
    "    ds.VOL.attrs['grid_loc'] = '3111'\n",
    "    \n",
    "    return ds"
   ]
  },
  {
   "cell_type": "markdown",
   "id": "b620346a-f60b-416f-ac93-1ad979bf1ffb",
   "metadata": {},
   "source": [
    "### Compute Budget Terms using xarray/roll only"
   ]
  },
  {
   "cell_type": "code",
   "execution_count": 6,
   "id": "56e03206-9668-4138-8f3e-2377c5bf9783",
   "metadata": {},
   "outputs": [],
   "source": [
    "def pop_budget_roll(ds):\n",
    "    ''' function scales and derives budget terms from POP ouputs using xarray.roll operations '''\n",
    "    di=xr.Dataset()\n",
    "    \n",
    "    # Advective terms\n",
    "    di['UE_O2'] = -((ds.UE_O2*ds.VOL) - (ds.UE_O2*ds.VOL).roll(nlon=1, roll_coords=True))\n",
    "    di.UE_O2.attrs['units'] = 'nmol/s'\n",
    "    di['VN_O2'] = -((ds.VN_O2*ds.VOL) - (ds.VN_O2*ds.VOL).roll(nlat=1, roll_coords=True))\n",
    "    di.VN_O2.attrs['units'] = 'nmol/s'\n",
    "    di['WT_O2'] = - (ds.WT_O2*(ds.VOL.drop('z_t').rename({\"z_t\":\"z_w_top\"}).assign_coords(z_w_top=ds.z_w_top))\n",
    "                     - (ds.WT_O2*(ds.VOL.drop('z_t').rename({\"z_t\":\"z_w_top\"}).assign_coords(z_w_top=ds.z_w_top))).shift(z_w_top=-1).fillna(0)\n",
    "                    ).drop('z_w_top').rename({\"z_w_top\":\"z_t\"}).assign_coords(z_t=ds.z_t)\n",
    "    di.WT_O2.attrs['units'] = 'nmol/s'\n",
    "    di['DIV'] = di.UE_O2+di.VN_O2+di.WT_O2\n",
    "    di.DIV.attrs['units'] = 'nmol/s'\n",
    "    \n",
    "    # Vertical Mixing:\n",
    "    di['DIA_IMPVF_O2']= ((ds.DIA_IMPVF_O2*ds.TAREA).shift(z_w_bot=1).fillna(0) - ds.DIA_IMPVF_O2*ds.TAREA).drop('z_w_bot').rename({\"z_w_bot\":\"z_t\"})\n",
    "    di['DIA_IMPVF_O2']= di['DIA_IMPVF_O2'].load()\n",
    "    # Add Air-sea flux in surface diffusive flux in upper most cell\n",
    "    di['DIA_IMPVF_O2'][:,0,:,:]=(ds.STF_O2*ds.TAREA - ds.DIA_IMPVF_O2.isel(z_w_bot=0)*ds.TAREA)\n",
    "    di.DIA_IMPVF_O2.attrs['units'] = 'nmol/s'\n",
    "    di['KPP_SRC_O2']=ds.KPP_SRC_O2*ds.VOL\n",
    "    di.KPP_SRC_O2.attrs['units'] = 'nmol/s'\n",
    "    di['VDIF']=di['DIA_IMPVF_O2']+di['KPP_SRC_O2']\n",
    "\n",
    "    # Lateral Diffusion (not available for 0004 hindcast 1960-1990 runs)\n",
    "    if 'HDIFE_O2' in ds.variables:\n",
    "        di['HDIFE_O2'] = ((ds.HDIFE_O2*ds.VOL) - (ds.HDIFE_O2*ds.VOL).roll(nlon=1, roll_coords=True))\n",
    "        di.HDIFE_O2.attrs['units'] = 'nmol/s'\n",
    "        di['HDIFN_O2'] = ((ds.HDIFN_O2*ds.VOL) - (ds.HDIFN_O2*ds.VOL).roll(nlat=1, roll_coords=True))\n",
    "        di.HDIFN_O2.attrs['units'] = 'nmol/s'\n",
    "        di['HDIF'] =di['HDIFE_O2']+di['HDIFN_O2']\n",
    "        di.HDIF.attrs['units'] = 'nmol/s'\n",
    "\n",
    "    # Sources - SInk\n",
    "    if 'J_O2' in ds.variables:\n",
    "        di['J_O2'] =ds.J_O2*ds.VOL \n",
    "    else:\n",
    "        di['J_O2'] =(ds.O2_PRODUCTION-ds.O2_CONSUMPTION)*ds.VOL\n",
    "    di.J_O2.attrs['units'] = 'nmol/s'\n",
    "    \n",
    "    # Tendency\n",
    "    if 'TEND_O2' in ds.variables:\n",
    "        di['TEND_O2'] =ds.TEND_O2*ds.VOL \n",
    "    else:\n",
    "        di['TEND_O2']=di.DIV+di.VDIF+di.HDIF+di.J_O2   \n",
    "    di.TEND_O2.attrs['units'] = 'nmol/s'\n",
    "\n",
    "    return di"
   ]
  },
  {
   "cell_type": "markdown",
   "id": "7d5140c4-20ed-45e4-80c8-4c4c35035874",
   "metadata": {
    "tags": []
   },
   "source": [
    "### Loop through model output and scale/calculate full budget terms"
   ]
  },
  {
   "cell_type": "markdown",
   "id": "273e9aee-06d8-47ad-9fcc-1a46b487f206",
   "metadata": {},
   "source": [
    "where\n",
    "\n",
    "$$\n",
    "\\frac{\\partial{O_2}}{\\partial{t}}= \\underbrace{- \\frac{\\partial{U.O_2}}{\\partial{x}} -\\frac{\\partial{V.O_2}}{\\partial{y}}}_\\text{Lateral Advection}\n",
    "- \\overbrace{\\frac{\\partial{W.O_2}}{\\partial{z}}}^\\text{Vertical Advection}\n",
    "+ \\underbrace{A_h.\\nabla^2{O_2}}_\\text{Lateral Mixing}\n",
    "+\\overbrace{\\frac{\\partial{}}{\\partial{z}}k.\\frac{\\partial{O_2}}{\\partial{z}}}^\\text{Vertical Mixing}\n",
    "+ \\underbrace{ J(O_2)  }_\\text{Sources - Sinks}\n",
    "$$\n",
    "\n"
   ]
  },
  {
   "cell_type": "code",
   "execution_count": 7,
   "id": "a142de5e-52fa-4571-8831-ef206e36ec86",
   "metadata": {
    "tags": []
   },
   "outputs": [],
   "source": [
    "month_str=1\n",
    "month_end=13\n",
    "yr_str=1\n",
    "yr_end=6\n",
    "\n",
    "for j in tqdm(np.arange(yr_str,yr_end)):\n",
    "    for i in tqdm(np.arange(month_str,month_end)):\n",
    "        print('loading ...')\n",
    "        path=f'/glade/scratch/yeddebba/Mesoscale/HR/TPAC/budgets/*O2*.000'+str(j)+'-'+str(i).zfill(2)+'.nc'\n",
    "        ds = xr.open_mfdataset(path, parallel=True, coords=\"minimal\", data_vars=\"minimal\", compat='override') \n",
    "        dg0 = xr.open_dataset('/glade/scratch/yeddebba/Mesoscale/HR/TPAC/POP_GRID_F.nc')\n",
    "        ds=xr.merge([ds,dg0])\n",
    "        ds=ds.isel(z_w=np.arange(0,41),z_t=np.arange(0,41),z_w_bot=np.arange(0,41), z_w_top=np.arange(0,41)) \n",
    "        print('Calculating Cell Volume')\n",
    "        ds=volume(ds)\n",
    "        print('Calculating Budget terms')\n",
    "        di=pop_budget_roll(ds)\n",
    "        print('Saving')\n",
    "        di.to_netcdf('/glade/scratch/yeddebba/Mesoscale/HR/TPAC/final_budget/O2_budget_000'+str(j)+'_'+str(i).zfill(2)+'.nc')\n",
    "        print('Month '+str(i).zfill(2)+' is done')"
   ]
  },
  {
   "cell_type": "code",
   "execution_count": null,
   "id": "6efa0867-e4ae-46d6-9965-cce9a9b6f124",
   "metadata": {
    "tags": []
   },
   "outputs": [],
   "source": [
    "# dv=xr.open_mfdataset('/glade/scratch/yeddebba/Mesoscale/HR/TPAC/?VEL.0001-01.nc')\n",
    "# dc = xr.open_mfdataset('/glade/scratch/yeddebba/Mesoscale/HR/TPAC/O2.0001-01.nc')\n",
    "# dg = xr.open_dataset('/glade/scratch/yeddebba/Mesoscale/HR/TPAC/POP_GRID_F.nc')\n",
    "# ds=xr.merge([dc,dv,dg])\n",
    "# ds=ds.isel(z_w=np.arange(0,41),z_t=np.arange(0,41), z_w_top=np.arange(0,41)) \n",
    "# ds=volume(ds)\n",
    "# ds\n",
    "# path=f'/glade/scratch/yeddebba/Mesoscale/HR/TPAC/budgets/[UVW]?_O2.0001-01.nc'\n",
    "# db = xr.open_mfdataset(path, parallel=True, coords=\"minimal\", data_vars=\"minimal\", compat='override') \n",
    "# db\n",
    "# path=f'/glade/scratch/yeddebba/Mesoscale/HR/TPAC/final_budget/O2_budget_0001_01.nc'\n",
    "# dbb = xr.open_mfdataset(path, parallel=True, coords=\"minimal\", data_vars=\"minimal\", compat='override') \n",
    "# dbb\n",
    "\n",
    "# def eddy_mean_adv(ds):\n",
    "#     ''' function scales and derives eddy vs mean advective budget terms from POP ouputs using xarray.roll operations '''\n",
    "#     di=xr.Dataset()\n",
    "    \n",
    "#     # mean Advective terms\n",
    "#     U_O2=(0.5 * (ds.UVEL + ds.UVEL.roll(nlat=1))*ds.O2).assign_attrs(db.UE_O2.attrs)\n",
    "#     V_O2=(0.5 * (ds.VVEL + ds.VVEL.roll(nlon=1))*ds.O2).assign_attrs(db.VN_O2.attrs)\n",
    "#     W_O2=(ds.WVEL*ds.O2.drop('z_t').rename({\"z_t\":\"z_w_top\"}).assign_coords(z_w_top=ds.z_w_top).assign_attrs(db.WT_O2.attrs))\n",
    "\n",
    "#     di['U_O2'] = -((U_O2*ds.VOL) - (U_O2*ds.VOL).roll(nlon=1, roll_coords=True))/ds.DXT\n",
    "#     di.U_O2.attrs['units'] = 'nmol/s'\n",
    "#     di['V_O2'] = -((V_O2*ds.VOL) - (V_O2*ds.VOL).roll(nlat=1, roll_coords=True))/ds.DYT\n",
    "#     di.V_O2.attrs['units'] = 'nmol/s'\n",
    "#     di['W_O2'] = - (W_O2*(ds.VOL.drop('z_t').rename({\"z_t\":\"z_w_top\"}).assign_coords(z_w_top=ds.z_w_top))\n",
    "#                      - (W_O2*(ds.VOL.drop('z_t').rename({\"z_t\":\"z_w_top\"}).assign_coords(z_w_top=ds.z_w_top))).shift(z_w_top=-1).fillna(0)\n",
    "#                     ).drop('z_w_top').rename({\"z_w_top\":\"z_t\"}).assign_coords(z_t=ds.z_t)/ds.DZT\n",
    "#     di.W_O2.attrs['units'] = 'nmol/s'\n",
    "#     di['DIVm'] = di.U_O2+di.V_O2+di.W_O2\n",
    "#     di.DIVm.attrs['units'] = 'nmol/s'\n",
    "    \n",
    "#     return di\n",
    "\n",
    "# month_str=1\n",
    "# month_end=2\n",
    "# yr_str=1\n",
    "# yr_end=2\n",
    "\n",
    "# for j in tqdm(np.arange(yr_str,yr_end)):\n",
    "#     for i in tqdm(np.arange(month_str,month_end)):\n",
    "#         print('loading ...')\n",
    "#         path=f'/glade/scratch/yeddebba/Mesoscale/HR/TPAC/budgets/*O2*.000'+str(j)+'-'+str(i).zfill(2)+'.nc'\n",
    "#         ds = xr.open_mfdataset(path, parallel=True, coords=\"minimal\", data_vars=\"minimal\", compat='override') \n",
    "#         dv=xr.open_mfdataset('/glade/scratch/yeddebba/Mesoscale/HR/TPAC/budgets/?VEL.CLM.nc').squeeze()\n",
    "#         dc = xr.open_mfdataset('/glade/scratch/yeddebba/Mesoscale/HR/TPAC/O2.mon.nc').mean('time').squeeze()\n",
    "#         dg0 = xr.open_dataset('/glade/scratch/yeddebba/Mesoscale/HR/TPAC/POP_GRID_F.nc')\n",
    "#         ds=xr.merge([ds,dg0])\n",
    "#         ds=ds.isel(z_w=np.arange(0,41),z_t=np.arange(0,41),z_w_bot=np.arange(0,41), z_w_top=np.arange(0,41)) \n",
    "#         print('Calculating Cell Volume')\n",
    "#         ds=volume(ds)\n",
    "#         print('Calculating Advective terms')\n",
    "#         di=pop_budget_roll(ds)\n",
    "#         print('Saving')\n",
    "#         di.to_netcdf('/glade/scratch/yeddebba/Mesoscale/HR/TPAC/final_budget/O2_budget_000'+str(j)+'_'+str(i).zfill(2)+'.nc')\n",
    "#         print('Month '+str(i).zfill(2)+' is done')"
   ]
  },
  {
   "cell_type": "markdown",
   "id": "46b2fa2b-7968-4d01-9586-61321359d044",
   "metadata": {},
   "source": [
    "### Calculates mean advective terms from 5-day mean U and O2 outputs "
   ]
  },
  {
   "cell_type": "code",
   "execution_count": 53,
   "id": "72bfe99e-d745-4a4d-89e0-a42e866bc3ed",
   "metadata": {},
   "outputs": [],
   "source": [
    "# Functions for calculating advective terms from output U and O2  \n",
    "\n",
    "def adv(ds):\n",
    "    ''' function scales and derives full d(u.O2)  advective budget terms from POP ouputs using xarray.roll operations '''\n",
    "    di=xr.Dataset()\n",
    "    \n",
    "    # mean Advective terms\n",
    "    U_O2=(0.5 * (ds.UVEL + ds.UVEL.roll(nlat=1))*ds.O2)\n",
    "    V_O2=(0.5 * (ds.VVEL + ds.VVEL.roll(nlon=1))*ds.O2)\n",
    "    W_O2=ds.WVEL*ds.O2.drop('z_t').rename({\"z_t\":\"z_w_top\"}).assign_coords(z_w_top=ds.z_w_top)\n",
    "     \n",
    "    di['U_O2'] = -((U_O2*ds.VOL.isel(month=0)) - (U_O2*ds.VOL.isel(month=0)).roll(nlon=1, roll_coords=True))/ds.DXT.isel(month=0)\n",
    "    di.U_O2.attrs['units'] = 'nmol/s'\n",
    "    di['V_O2'] = -((V_O2*ds.VOL.isel(month=0)) - (V_O2*ds.VOL.isel(month=0)).roll(nlat=1, roll_coords=True))/ds.DYT.isel(month=0)\n",
    "    di.V_O2.attrs['units'] = 'nmol/s'\n",
    "    di['W_O2'] = - (W_O2*(ds.VOL.isel(month=0).drop('z_t').rename({\"z_t\":\"z_w_top\"}).assign_coords(z_w_top=ds.z_w_top))\n",
    "                     - (W_O2*(ds.VOL.isel(month=0).drop('z_t').rename({\"z_t\":\"z_w_top\"}).assign_coords(z_w_top=ds.z_w_top))).shift(z_w_top=-1).fillna(0)\n",
    "                    ).drop('z_w_top').rename({\"z_w_top\":\"z_t\"}).assign_coords(z_t=ds.z_t)/ds.DZT.isel(month=0)\n",
    "    di.W_O2.attrs['units'] = 'nmol/s'\n",
    "    di['DIVm'] = di.U_O2+di.V_O2+di.W_O2\n",
    "    di.DIVm.attrs['units'] = 'nmol/s'\n",
    "    \n",
    "    return di\n",
    "\n",
    "def adv_u(ds):\n",
    "    ''' function scales and derives (u.dO2) advective budget terms for monthly means from POP ouputs using xarray.roll operations '''\n",
    "    di=xr.Dataset()\n",
    "    dO2dx = ((ds.O2*ds.VOL.isel(month=0)) - (ds.O2*ds.VOL.isel(month=0)).roll(nlon=1, roll_coords=True))/ds.DXT.isel(month=0)\n",
    "    di['U_dO2'] = -ds.UVEL*dO2dx\n",
    "    di.U_dO2.attrs['units'] = 'nmol/s'\n",
    "\n",
    "    dO2dy = ((ds.O2*ds.VOL.isel(month=0)) - (ds.O2*ds.VOL.isel(month=0)).roll(nlat=1, roll_coords=True))/ds.DYT.isel(month=0)\n",
    "    di['V_dO2'] = -ds.VVEL*dO2dy\n",
    "    di.V_dO2.attrs['units'] = 'nmol/s'\n",
    "\n",
    "    dO2dz = (((ds.O2*ds.VOL.isel(month=0))-(ds.O2*ds.VOL.isel(month=0)).shift(z_t=-1).fillna(0)\n",
    "            )/ds.DZT.isel(month=0)).drop('z_t').rename({\"z_t\":\"z_w_top\"}).assign_coords(z_w_top=ds.z_w_top)\n",
    "    di['W_dO2'] = -(ds.WVEL*dO2dz).drop('z_w_top').rename({\"z_w_top\":\"z_t\"}).assign_coords(z_t=ds.z_t)\n",
    "    di.W_dO2.attrs['units'] = 'nmol/s'\n",
    "\n",
    "    di['DIVd'] = di.U_dO2+di.V_dO2+di.W_dO2\n",
    "    di.DIVd.attrs['units'] = 'nmol/s'\n",
    "    \n",
    "    return di\n",
    "\n",
    "def adv_ut(ds):\n",
    "    ''' function scales and derives (u.dO2) advective budget terms for 5 day mean POP ouputs using xarray.roll operations '''\n",
    "    di=xr.Dataset()\n",
    "    dO2dx = ((ds.O2*ds.VOL) - (ds.O2*ds.VOL).roll(nlon=1, roll_coords=True))/ds.DXT\n",
    "    di['U_dO2'] = -ds.UVEL*dO2dx\n",
    "    di.U_dO2.attrs['units'] = 'nmol/s'\n",
    "\n",
    "    dO2dy = ((ds.O2*ds.VOL) - (ds.O2*ds.VOL).roll(nlat=1, roll_coords=True))/ds.DYT\n",
    "    di['V_dO2'] = -ds.VVEL*dO2dy\n",
    "    di.V_dO2.attrs['units'] = 'nmol/s'\n",
    "\n",
    "    dO2dz = (((ds.O2*ds.VOL)-(ds.O2*ds.VOL).shift(z_t=-1).fillna(0)\n",
    "            )/ds.DZT).drop('z_t').rename({\"z_t\":\"z_w_top\"}).assign_coords(z_w_top=ds.z_w_top)\n",
    "    di['W_dO2'] = -(ds.WVEL*dO2dz).drop('z_w_top').rename({\"z_w_top\":\"z_t\"}).assign_coords(z_t=ds.z_t)\n",
    "    di.W_dO2.attrs['units'] = 'nmol/s'\n",
    "\n",
    "    di['DIVd'] = di.U_dO2+di.V_dO2+di.W_dO2\n",
    "    di.DIVd.attrs['units'] = 'nmol/s'\n",
    "    \n",
    "    return di"
   ]
  },
  {
   "cell_type": "markdown",
   "id": "0c55b2cb-491f-4b2f-912b-a315a4f0bab2",
   "metadata": {
    "tags": []
   },
   "source": [
    "#### Calculate monthly climatological mean budget terms:\n",
    "\n",
    "$$\n",
    "\\overline{\\frac{\\partial{O_2}}{\\partial{t}}}= \\underbrace{- \\overline{\\frac{\\partial{U.O_2}}{\\partial{x}}} -\\overline{\\frac{\\partial{V.O_2}}{\\partial{y}}}}_\\text{Lateral Advection}\n",
    "- \\overbrace{\\overline{\\frac{\\partial{W.O_2}}{\\partial{z}}}}^\\text{Vertical Advection}\n",
    "+ \\underbrace{\\overline{A_h.\\nabla^2{O_2}}}_\\text{Lateral Mixing}\n",
    "+\\overbrace{\\overline{\\frac{\\partial{}}{\\partial{z}}k.\\frac{\\partial{O_2}}{\\partial{z}}}}^\\text{Vertical Mixing}\n",
    "+ \\underbrace{\\overline{ J(O_2)}  }_\\text{Sources - Sinks}\n",
    "$$\n",
    "\n"
   ]
  },
  {
   "cell_type": "markdown",
   "id": "dc2dffc7-fa66-45b9-8e7b-4276c592ee08",
   "metadata": {},
   "source": [
    "where the mean $\\overline{X}$ refers to the monthly climatological mean"
   ]
  },
  {
   "cell_type": "code",
   "execution_count": 11,
   "id": "b7ed9733-3e97-4834-8860-8af0a0af8ccf",
   "metadata": {
    "tags": []
   },
   "outputs": [],
   "source": [
    "dsh=xr.open_mfdataset('/glade/scratch/yeddebba/Mesoscale/HR/TPAC/final_budget/O2_budget_000?_??.nc')\n",
    "dss=xr.open_mfdataset('/glade/scratch/yeddebba/Mesoscale/HR/TPAC/budgets/STF_O2.000?-??.nc', parallel=True,  data_vars=\"minimal\", coords=\"minimal\", compat='override').groupby('time.month').mean(dim='time')\n",
    "dss['STF_O2']= (dss.STF_O2*dh.TAREA)\n",
    "\n",
    "dshm=dsh.groupby('time.month').mean(dim='time')\n",
    "\n",
    "dshm.TEND_O2.to_netcdf('/glade/scratch/yeddebba/Mesoscale/HR/TPAC/final_budget/TEND_Mon_Mean.nc')\n",
    "dshm.DIV.to_netcdf('/glade/scratch/yeddebba/Mesoscale/HR/TPAC/final_budget/DIV_Mon_Mean.nc')\n",
    "dshm.UE_O2.to_netcdf('/glade/scratch/yeddebba/Mesoscale/HR/TPAC/final_budget/UE_Mon_Mean.nc')\n",
    "dshm.VN_O2.to_netcdf('/glade/scratch/yeddebba/Mesoscale/HR/TPAC/final_budget/VN_Mon_Mean.nc')\n",
    "dshm.WT_O2.to_netcdf('/glade/scratch/yeddebba/Mesoscale/HR/TPAC/final_budget/WT_Mon_Mean.nc')\n",
    "dshm.VDIF.to_netcdf('/glade/scratch/yeddebba/Mesoscale/HR/TPAC/final_budget/VDIF_Mon_Mean.nc')\n",
    "dshm.HDIF.to_netcdf('/glade/scratch/yeddebba/Mesoscale/HR/TPAC/final_budget/HDIF_Mon_Mean.nc')\n",
    "dshm.J_O2.to_netcdf('/glade/scratch/yeddebba/Mesoscale/HR/TPAC/final_budget/J_O2_Mon_Mean.nc')\n",
    "dss.STF_O2.to_netcdf('/glade/scratch/yeddebba/Mesoscale/HR/TPAC/final_budget/STF_O2_Mon_Mean.nc')\n",
    "dshm.KPP_SRC_O2.to_netcdf('/glade/scratch/yeddebba/Mesoscale/HR/TPAC/final_budget/KPP_Mon_Mean.nc')\n",
    "dshm.DIA_IMPVF_O2.to_netcdf('/glade/scratch/yeddebba/Mesoscale/HR/TPAC/final_budget/DIA_Mon_Mean.nc')"
   ]
  },
  {
   "cell_type": "markdown",
   "id": "652452f9-2a07-46f0-a5b6-358a28628c60",
   "metadata": {
    "tags": []
   },
   "source": [
    "#### Calculate monthly climatological mean full advective terms:\n",
    "\n",
    "$$\n",
    "-\\nabla.{\\overline{U}\\overline{O2}}= -\\frac{\\partial{\\overline{U}.\\overline{O_2}}}{\\partial{x}}-\\frac{\\partial{\\overline{V}.\\overline{O_2}}}{\\partial{y}}-\\frac{\\partial{\\overline{W}.\\overline{O_2}}}{\\partial{z}}\n",
    "$$\n",
    "\n"
   ]
  },
  {
   "cell_type": "code",
   "execution_count": 101,
   "id": "8e877bfa-1b05-4309-b7e2-874c862b645b",
   "metadata": {},
   "outputs": [],
   "source": [
    "dv=xr.open_mfdataset('/glade/scratch/yeddebba/Mesoscale/HR/TPAC/?VEL.000?-??.nc')\n",
    "dc = xr.open_mfdataset('/glade/scratch/yeddebba/Mesoscale/HR/TPAC/O2.000?-??.nc')\n",
    "dg = xr.open_dataset('/glade/scratch/yeddebba/Mesoscale/HR/TPAC/POP_GRID_F.nc')\n",
    "dh=xr.Dataset()\n",
    "dh=xr.merge([dc,dv,dg],compat='override')\n",
    "dh=dh.isel(z_w=np.arange(0,41),z_t=np.arange(0,41), z_w_top=np.arange(0,41))\n",
    "dh=volume(dh)\n",
    "\n",
    "dhm=dh.groupby('time.month').mean(dim='time')\n",
    "dhma=adv(dhm)\n",
    "\n",
    "dhm.UVEL.to_netcdf('/glade/scratch/yeddebba/Mesoscale/HR/CLM/UVEL_Mon_Mean.nc')\n",
    "dhm.VVEL.to_netcdf('/glade/scratch/yeddebba/Mesoscale/HR/CLM/VVEL_Mon_Mean.nc')\n",
    "dhm.WVEL.to_netcdf('/glade/scratch/yeddebba/Mesoscale/HR/CLM/WVEL_Mon_Mean.nc')\n",
    "dhm.O2.to_netcdf('/glade/scratch/yeddebba/Mesoscale/HR/CLM/O2_Mon_Mean.nc')\n",
    "\n",
    "dhma.DIVm.to_netcdf('/glade/scratch/yeddebba/Mesoscale/HR/TPAC/final_budget/DIVm_Mon_Mean.nc')\n",
    "dhma.U_O2.to_netcdf('/glade/scratch/yeddebba/Mesoscale/HR/TPAC/final_budget/U_O2_Mon_Mean.nc')\n",
    "dhma.V_O2.to_netcdf('/glade/scratch/yeddebba/Mesoscale/HR/TPAC/final_budget/V_O2_Mon_Mean.nc')\n",
    "dhma.W_O2.to_netcdf('/glade/scratch/yeddebba/Mesoscale/HR/TPAC/final_budget/W_O2_Mon_Mean.nc')"
   ]
  },
  {
   "cell_type": "markdown",
   "id": "1d7f875c-4d99-48d2-acd2-644dcee39323",
   "metadata": {},
   "source": [
    "### Calculate Longterm Mean"
   ]
  },
  {
   "cell_type": "code",
   "execution_count": 43,
   "id": "80f59293-8875-4397-b50c-ef0e6b53f9f2",
   "metadata": {},
   "outputs": [],
   "source": [
    "dq=xr.open_mfdataset({'/glade/scratch/yeddebba/Mesoscale/HR/TPAC/final_budget/TEND_Mon_Mean.nc',\n",
    "                      '/glade/scratch/yeddebba/Mesoscale/HR/TPAC/final_budget/DIV_Mon_Mean.nc',\n",
    "                      '/glade/scratch/yeddebba/Mesoscale/HR/TPAC/final_budget/VDIF_Mon_Mean.nc',\n",
    "                      '/glade/scratch/yeddebba/Mesoscale/HR/TPAC/final_budget/J_O2_Mon_Mean.nc',\n",
    "                      '/glade/scratch/yeddebba/Mesoscale/HR/TPAC/final_budget/UE_Mon_Mean.nc',\n",
    "                      '/glade/scratch/yeddebba/Mesoscale/HR/TPAC/final_budget/VN_Mon_Mean.nc',\n",
    "                      '/glade/scratch/yeddebba/Mesoscale/HR/TPAC/final_budget/WT_Mon_Mean.nc',\n",
    "                      '/glade/scratch/yeddebba/Mesoscale/HR/TPAC/final_budget/STF_O2_Mon_Mean.nc',\n",
    "                      '/glade/scratch/yeddebba/Mesoscale/HR/TPAC/final_budget/DIVm_Mon_Mean.nc',\n",
    "                      '/glade/scratch/yeddebba/Mesoscale/HR/TPAC/final_budget/U_O2_Mon_Mean.nc',\n",
    "                      '/glade/scratch/yeddebba/Mesoscale/HR/TPAC/final_budget/V_O2_Mon_Mean.nc',\n",
    "                      '/glade/scratch/yeddebba/Mesoscale/HR/TPAC/final_budget/W_O2_Mon_Mean.nc',\n",
    "                       '/glade/scratch/yeddebba/Mesoscale/HR/TPAC/final_budget/HDIF_Mon_Mean.nc',\n",
    "                      '/glade/scratch/yeddebba/Mesoscale/HR/CLM/O2_Mon_Mean.nc',\n",
    "                      '/glade/scratch/yeddebba/Mesoscale/HR/CLM/UVEL_Mon_Mean.nc',\n",
    "                     })\n",
    "\n",
    "dg = xr.open_dataset('/glade/scratch/yeddebba/Mesoscale/HR/TPAC/POP_GRID_F.nc')\n",
    "dq=xr.merge([dq,dg],compat='override')\n",
    "dq=volume(dq)\n",
    "dsh=dq.mean('month').squeeze()\n",
    "dsh.to_netcdf('/glade/scratch/yeddebba/Mesoscale/HR/TPAC/final_budget/O2_Budget_Mean.nc')"
   ]
  },
  {
   "cell_type": "markdown",
   "id": "7d74d9f9-ea5b-4bcb-987c-74be22f0310c",
   "metadata": {
    "tags": []
   },
   "source": [
    "#### Calculate Eddy term using eddy decompostion as residual of mean total full advective terms - mean total full advective terms:\n",
    "\n",
    "$$\n",
    "- \\nabla.{\\overline{U O_2}}=-\\nabla.{\\overline{U}\\space \\overline{O_2}}-\\nabla.{\\overline{U' O_2'}}\n",
    "$$\n",
    "so that \n",
    "\n",
    "$$\n",
    "-\\nabla.{\\overline{U' O_2'}}=- \\nabla.{\\overline{U O_2}}+\\nabla.{\\overline{U}\\space \\overline{O_2}}\n",
    "$$\n",
    "\n",
    "\n"
   ]
  },
  {
   "cell_type": "code",
   "execution_count": null,
   "id": "c5769f65-bf19-4f29-a41f-b548a94df3ad",
   "metadata": {},
   "outputs": [],
   "source": [
    "dqe=xr.Dataset()\n",
    "dqe['Up_O2p']=dq.UE_O2-dq.U_O2\n",
    "dqe['Vp_O2p']=dq.VN_O2-dq.V_O2\n",
    "dqe['Wp_O2p']=dq.WT_O2-dq.W_O2\n",
    "dqe['DIVp']=dq.DIV-dq.DIVm\n",
    "dqe.to_netcdf('/glade/scratch/yeddebba/Mesoscale/HR/TPAC/final_budget/O2_Budget_Eddy_Mon_Mean.nc')\n",
    "\n",
    "dqe.mean('month').to_netcdf('/glade/scratch/yeddebba/Mesoscale/HR/TPAC/final_budget/O2_Budget_Eddy_Mean.nc')"
   ]
  },
  {
   "cell_type": "markdown",
   "id": "8fbcbfe4-fe18-4ce7-b2f7-abd329663af6",
   "metadata": {},
   "source": [
    "### With mass conservation\n",
    "$$\n",
    "\\nabla{U}= 0\n",
    "$$"
   ]
  },
  {
   "cell_type": "markdown",
   "id": "50b537b0-80a6-477a-8533-f47a062e3bb4",
   "metadata": {},
   "source": [
    "### The mean total advection becomes: \n",
    "$$\n",
    "-\\nabla{.\\overline{U O2}}= -\\overline{U.\\nabla{O2}} \n",
    "$$"
   ]
  },
  {
   "cell_type": "markdown",
   "id": "7397b79c-237e-403c-bb1f-bbef67ca9a28",
   "metadata": {
    "tags": []
   },
   "source": [
    "### Loop through model output and scale/calculate advective (u.dO2dx, v.dO2dy, w.dO2dz) budget terms"
   ]
  },
  {
   "cell_type": "markdown",
   "id": "9fad8348-27dc-4081-a151-4c0170b88d10",
   "metadata": {},
   "source": [
    "$$\n",
    "u.\\nabla{O_2}= \\underbrace{- U.\\frac{\\partial{O_2}}{\\partial{x}} -V.\\frac{\\partial{O_2}}{\\partial{y}}}_\\text{Lateral Advection}\n",
    "- \\overbrace{W.\\frac{\\partial{O_2}}{\\partial{z}}}^\\text{Vertical Advection}\n",
    "$$"
   ]
  },
  {
   "cell_type": "code",
   "execution_count": null,
   "id": "76260afe-bcb1-4c7d-aef0-b5536b8dcc1c",
   "metadata": {
    "tags": []
   },
   "outputs": [],
   "source": [
    "month_str=1\n",
    "month_end=13\n",
    "yr_str=1\n",
    "yr_end=6\n",
    "\n",
    "for j in tqdm(np.arange(yr_str,yr_end)):\n",
    "    for i in tqdm(np.arange(month_str,month_end)):\n",
    "        print('loading ...')\n",
    "        path=f'/glade/scratch/yeddebba/Mesoscale/HR/TPAC/O2.000'+str(j)+'-'+str(i).zfill(2)+'.nc'\n",
    "        dc = xr.open_mfdataset(path, parallel=True, coords=\"minimal\", data_vars=\"minimal\", compat='override')\n",
    "        path=f'/glade/scratch/yeddebba/Mesoscale/HR/TPAC/?VEL.000'+str(j)+'-'+str(i).zfill(2)+'.nc'\n",
    "        dv = xr.open_mfdataset(path, parallel=True, coords=\"minimal\", data_vars=\"minimal\", compat='override') \n",
    "        dg = xr.open_dataset('/glade/scratch/yeddebba/Mesoscale/HR/TPAC/POP_GRID_F.nc')\n",
    "        dh=xr.merge([dc,dv,dg])\n",
    "        dh=dh.isel(z_w=np.arange(0,41),z_t=np.arange(0,41),z_w_top=np.arange(0,41)) \n",
    "        print('Calculating Cell Volume')\n",
    "        dh=volume(dh)\n",
    "        print('Calculating Adv Budget terms')\n",
    "        di=adv_ut(dh)\n",
    "        print('Saving')\n",
    "#         di.to_netcdf('/glade/scratch/yeddebba/Mesoscale/HR/TPAC/final_budget/U_dO2_budget_000'+str(j)+'_'+str(i).zfill(2)+'.nc')\n",
    "        print('Saving u_do2dx')    \n",
    "        di.U_dO2.to_netcdf('/glade/scratch/yeddebba/Mesoscale/HR/TPAC/final_budget/U_dO2_budget_000'+str(j)+'_'+str(i).zfill(2)+'.nc')\n",
    "        print('Saving v_do2dy')            \n",
    "        di.V_dO2.to_netcdf('/glade/scratch/yeddebba/Mesoscale/HR/TPAC/final_budget/V_dO2_budget_000'+str(j)+'_'+str(i).zfill(2)+'.nc')\n",
    "        print('Saving w_do2dz')                    \n",
    "        di.W_dO2.to_netcdf('/glade/scratch/yeddebba/Mesoscale/HR/TPAC/final_budget/W_dO2_budget_000'+str(j)+'_'+str(i).zfill(2)+'.nc')\n",
    "        \n",
    "        print('Saving DIVd')                    \n",
    "        dx=xr.open_mfdataset({'/glade/scratch/yeddebba/Mesoscale/HR/TPAC/final_budget/U_dO2_budget_000'+str(j)+'_'+str(i).zfill(2)+'.nc',\n",
    "                      '/glade/scratch/yeddebba/Mesoscale/HR/TPAC/final_budget/V_dO2_budget_000'+str(j)+'_'+str(i).zfill(2)+'.nc',\n",
    "                      '/glade/scratch/yeddebba/Mesoscale/HR/TPAC/final_budget/W_dO2_budget_000'+str(j)+'_'+str(i).zfill(2)+'.nc'})\n",
    "        di['DIVd'] = dx.U_dO2+dx.V_dO2+dx.W_dO2\n",
    "        di.DIVd.attrs['units'] = 'nmol/s'\n",
    "        di.DIVd.to_netcdf('/glade/scratch/yeddebba/Mesoscale/HR/TPAC/final_budget/DIVd_budget_000'+str(j)+'_'+str(i).zfill(2)+'.nc')\n",
    "        print('Month '+str(i).zfill(2)+' is done')\n",
    "\n"
   ]
  },
  {
   "cell_type": "markdown",
   "id": "0a50389d-359c-4258-b5d3-2cf099b76a54",
   "metadata": {},
   "source": [
    "### And the eddy flux is calculated as a residual in this reynolds decompsotion:\n",
    "$$\n",
    "\\overline{-U.\\nabla{O_2}} = -\\overline{U} . \\nabla{\\overline{O_2}}-\\overline{U'.\\nabla{O_2'}} \n",
    "$$"
   ]
  },
  {
   "cell_type": "markdown",
   "id": "4eb042ae-e611-4981-8342-ed338f861d0a",
   "metadata": {
    "tags": []
   },
   "source": [
    "### So We calculate the mean total advective terms: \n",
    "\n",
    "$$\n",
    "\\overline{-U.\\nabla{O_2}} = -\\overline{U.\\frac{\\partial{O_2}}{\\partial{x}}} - \\overline{V.\\frac{\\partial{O_2}}{\\partial{y}}}-\\overline{W.\\frac{\\partial{O_2}}{\\partial{z}}} \n",
    "$$\n",
    "\n",
    "where the mean, $\\overline{X}$, refers to the monthly climatological mean"
   ]
  },
  {
   "cell_type": "code",
   "execution_count": 23,
   "id": "3ce19686-f397-4baf-81a1-2bab3d0100e0",
   "metadata": {},
   "outputs": [],
   "source": [
    "# Load all 5 day mean advective terms u.dO2 and calculate monthly means and longterm means \n",
    "dsh=xr.open_mfdataset('/glade/scratch/yeddebba/Mesoscale/HR/TPAC/final_budget/U_dO2_budget_000?_??.nc')\n",
    "dshm=dsh.groupby('time.month').mean(dim='time')\n",
    "dshm.U_dO2.to_netcdf('/glade/scratch/yeddebba/Mesoscale/HR/TPAC/final_budget/U_dO2m_Mon_Mean.nc')\n",
    "dshm.U_dO2.mean('month').to_netcdf('/glade/scratch/yeddebba/Mesoscale/HR/TPAC/final_budget/U_dO2m_Mean.nc')\n",
    "\n",
    "dsh=xr.open_mfdataset('/glade/scratch/yeddebba/Mesoscale/HR/TPAC/final_budget/V_dO2_budget_000?_??.nc')\n",
    "dshm=dsh.groupby('time.month').mean(dim='time')\n",
    "dshm.V_dO2.to_netcdf('/glade/scratch/yeddebba/Mesoscale/HR/TPAC/final_budget/V_dO2m_Mon_Mean.nc')\n",
    "dshm.V_dO2.mean('month').to_netcdf('/glade/scratch/yeddebba/Mesoscale/HR/TPAC/final_budget/V_dO2m_Mean.nc')\n",
    "\n",
    "dsh=xr.open_mfdataset('/glade/scratch/yeddebba/Mesoscale/HR/TPAC/final_budget/W_dO2_budget_000?_??.nc')\n",
    "dshm=dsh.groupby('time.month').mean(dim='time')\n",
    "dshm.W_dO2.to_netcdf('/glade/scratch/yeddebba/Mesoscale/HR/TPAC/final_budget/W_dO2m_Mon_Mean.nc')\n",
    "dshm.W_dO2.mean('month').to_netcdf('/glade/scratch/yeddebba/Mesoscale/HR/TPAC/final_budget/W_dO2m_Mean.nc')\n",
    "\n",
    "dsh=xr.open_mfdataset('/glade/scratch/yeddebba/Mesoscale/HR/TPAC/final_budget/DIVd_budget_000?_??.nc')\n",
    "dshm=dsh.groupby('time.month').mean(dim='time')\n",
    "dshm.DIVd.to_netcdf('/glade/scratch/yeddebba/Mesoscale/HR/TPAC/final_budget/DIVdm_Mon_Mean.nc')\n",
    "dshm.DIVd.mean('month').to_netcdf('/glade/scratch/yeddebba/Mesoscale/HR/TPAC/final_budget/DIVdm_Mean.nc')"
   ]
  },
  {
   "cell_type": "markdown",
   "id": "35c65657-dd4b-47a1-a41c-c46a9e1c372e",
   "metadata": {
    "tags": []
   },
   "source": [
    "### and calculate the mean advective terms: \n",
    "\n",
    "$$\n",
    "-\\overline{U}.\\nabla{\\overline{O_2}} = -\\overline{U}.\\frac{\\partial{\\overline{O_2}}}{\\partial{x}} -\\overline{V}.\\frac{\\partial{\\overline{O_2}}}{\\partial{y}} -\\overline{W}.\\frac{\\partial{\\overline{O_2}}}{\\partial{z}}\n",
    "$$\n",
    "\n",
    "where the mean, $\\overline{X}$, refers to the monthly climatological mean"
   ]
  },
  {
   "cell_type": "code",
   "execution_count": null,
   "id": "92220442-6cfa-40eb-ac63-f916ee1d6204",
   "metadata": {},
   "outputs": [],
   "source": [
    "dv=xr.open_mfdataset('/glade/scratch/yeddebba/Mesoscale/HR/TPAC/?VEL.000?-??.nc')\n",
    "dc = xr.open_mfdataset('/glade/scratch/yeddebba/Mesoscale/HR/TPAC/O2.000?-??.nc')\n",
    "dg = xr.open_dataset('/glade/scratch/yeddebba/Mesoscale/HR/TPAC/POP_GRID_F.nc')\n",
    "dh=xr.Dataset()\n",
    "dh=xr.merge([dc,dv,dg],compat='override')\n",
    "dh=dh.isel(z_w=np.arange(0,41),z_t=np.arange(0,41), z_w_top=np.arange(0,41))\n",
    "dh=volume(dh)\n",
    "\n",
    "ds=dh.groupby('time.month').mean(dim='time')\n",
    "dsa=adv_u(ds)\n",
    "\n",
    "dsa.U_dO2.to_netcdf('/glade/scratch/yeddebba/Mesoscale/HR/TPAC/final_budget/U_dO2_Mon_Mean.nc')\n",
    "dsa.V_dO2.to_netcdf('/glade/scratch/yeddebba/Mesoscale/HR/TPAC/final_budget/V_dO2_Mon_Mean.nc')\n",
    "dsa.W_dO2.to_netcdf('/glade/scratch/yeddebba/Mesoscale/HR/TPAC/final_budget/W_dO2_Mon_Mean.nc')"
   ]
  },
  {
   "cell_type": "code",
   "execution_count": 138,
   "id": "0888fce3-51ab-49c1-b9c8-a5668832bc9d",
   "metadata": {
    "tags": []
   },
   "outputs": [],
   "source": [
    "dr=xr.open_mfdataset({'/glade/scratch/yeddebba/Mesoscale/HR/TPAC/final_budget/U_dO2_Mon_Mean.nc',})\n",
    "dr.U_dO2.mean('month').to_netcdf('/glade/scratch/yeddebba/Mesoscale/HR/TPAC/final_budget/U_dO2_Mean.nc')\n",
    "\n",
    "dr=xr.open_mfdataset({'/glade/scratch/yeddebba/Mesoscale/HR/TPAC/final_budget/V_dO2_Mon_Mean.nc',})\n",
    "dr.V_dO2.mean('month').to_netcdf('/glade/scratch/yeddebba/Mesoscale/HR/TPAC/final_budget/V_dO2_Mean.nc')\n",
    "\n",
    "dr=xr.open_mfdataset({'/glade/scratch/yeddebba/Mesoscale/HR/TPAC/final_budget/W_dO2_Mon_Mean.nc',})\n",
    "dr.W_dO2.mean('month').to_netcdf('/glade/scratch/yeddebba/Mesoscale/HR/TPAC/final_budget/W_dO2_Mean.nc')"
   ]
  },
  {
   "cell_type": "code",
   "execution_count": 158,
   "id": "dfde155f-d4a0-4130-8d6e-bf099d1b2acf",
   "metadata": {
    "tags": []
   },
   "outputs": [],
   "source": [
    "dss1=xr.open_mfdataset({'/glade/scratch/yeddebba/Mesoscale/HR/TPAC/final_budget/U_dO2_Mon_Mean.nc',})\n",
    "dss2=xr.open_mfdataset({'/glade/scratch/yeddebba/Mesoscale/HR/TPAC/final_budget/V_dO2_Mon_Mean.nc',})\n",
    "dss3=xr.open_mfdataset({'/glade/scratch/yeddebba/Mesoscale/HR/TPAC/final_budget/W_dO2_Mon_Mean.nc',})\n",
    "\n",
    "dy=xr.Dataset()\n",
    "dy['DIVdh'] = (dss1.U_dO2+dss2.V_dO2)\n",
    "dy.DIVdh.to_netcdf('/glade/scratch/yeddebba/Mesoscale/HR/TPAC/final_budget/DIVdh_Mon_Mean.nc')\n",
    "\n",
    "dss4=xr.open_mfdataset({'/glade/scratch/yeddebba/Mesoscale/HR/TPAC/final_budget/DIVdh_Mon_Mean.nc',})\n",
    "dy['DIVd'] =dss4.DIVdh +dss3.W_dO2\n",
    "dy.DIVd.attrs['units'] = 'nmol/s'\n",
    "dy.DIVd.to_netcdf('/glade/scratch/yeddebba/Mesoscale/HR/TPAC/final_budget/DIVd_Mon_Mean.nc')"
   ]
  },
  {
   "cell_type": "code",
   "execution_count": 70,
   "id": "81c43236-00bc-470e-9008-532fd6b8ffd3",
   "metadata": {
    "tags": []
   },
   "outputs": [],
   "source": [
    "dr=xr.open_mfdataset({'/glade/scratch/yeddebba/Mesoscale/HR/TPAC/final_budget/U_dO2_Mon_Mean.nc',\n",
    "                        '/glade/scratch/yeddebba/Mesoscale/HR/TPAC/final_budget/V_dO2_Mon_Mean.nc',\n",
    "                        '/glade/scratch/yeddebba/Mesoscale/HR/TPAC/final_budget/W_dO2_Mon_Mean.nc',\n",
    "                      '/glade/scratch/yeddebba/Mesoscale/HR/TPAC/final_budget/DIVd_Mon_Mean.nc'})\n",
    "\n",
    "dr.U_dO2.mean('month').to_netcdf('/glade/scratch/yeddebba/Mesoscale/HR/TPAC/final_budget/U_dO2_Mean.nc')\n",
    "dr.V_dO2.mean('month').to_netcdf('/glade/scratch/yeddebba/Mesoscale/HR/TPAC/final_budget/V_dO2_Mean.nc') \n",
    "dr.W_dO2.mean('month').to_netcdf('/glade/scratch/yeddebba/Mesoscale/HR/TPAC/final_budget/W_dO2_Mean.nc') \n",
    "dr.DIVd.mean('month').to_netcdf('/glade/scratch/yeddebba/Mesoscale/HR/TPAC/final_budget/DIVd_Mean.nc') "
   ]
  },
  {
   "cell_type": "markdown",
   "id": "c841f71c-8148-482d-b3ce-894313ae4d3c",
   "metadata": {
    "tags": []
   },
   "source": [
    "### And the eddy flux is calculated as a residual in this reynolds decompsotion:\n",
    "$$\n",
    "-\\overline{U'.\\nabla{O_2'}} = - \\overline{U.\\nabla{O_2}} + \\overline{U} . \\nabla{\\overline{O_2}}\n",
    "$$"
   ]
  },
  {
   "cell_type": "code",
   "execution_count": 71,
   "id": "2713c2e8-49a6-4b50-b56d-269c9431d2c0",
   "metadata": {},
   "outputs": [],
   "source": [
    "dud=xr.open_mfdataset({'/glade/scratch/yeddebba/Mesoscale/HR/TPAC/final_budget/U_dO2_Mon_Mean.nc',\n",
    "                        '/glade/scratch/yeddebba/Mesoscale/HR/TPAC/final_budget/V_dO2_Mon_Mean.nc',\n",
    "                        '/glade/scratch/yeddebba/Mesoscale/HR/TPAC/final_budget/W_dO2_Mon_Mean.nc',\n",
    "                      '/glade/scratch/yeddebba/Mesoscale/HR/TPAC/final_budget/DIVd_Mon_Mean.nc'})\n",
    "dudm=xr.open_mfdataset({'/glade/scratch/yeddebba/Mesoscale/HR/TPAC/final_budget/U_dO2m_Mon_Mean.nc',\n",
    "                        '/glade/scratch/yeddebba/Mesoscale/HR/TPAC/final_budget/V_dO2m_Mon_Mean.nc',\n",
    "                        '/glade/scratch/yeddebba/Mesoscale/HR/TPAC/final_budget/W_dO2m_Mon_Mean.nc',\n",
    "                      '/glade/scratch/yeddebba/Mesoscale/HR/TPAC/final_budget/DIVdm_Mon_Mean.nc'})\n",
    "\n",
    "dqe=xr.Dataset()\n",
    "dqe['Up_dO2p']=dudm.U_dO2-dud.U_dO2\n",
    "dqe['Vp_dO2p']=dudm.V_dO2-dud.V_dO2\n",
    "dqe['Wp_dO2p']=dudm.W_dO2-dud.W_dO2\n",
    "dqe['DIVdp']=dudm.DIVd-dud.DIVd\n",
    "\n",
    "dqe.to_netcdf('/glade/scratch/yeddebba/Mesoscale/HR/TPAC/final_budget/DIVde_Mon_Mean.nc')\n",
    "dqe=xr.open_mfdataset('/glade/scratch/yeddebba/Mesoscale/HR/TPAC/final_budget/DIVde_Mon_Mean.nc')\n",
    "dqe.mean('month').to_netcdf('/glade/scratch/yeddebba/Mesoscale/HR/TPAC/final_budget/DIVde_Mean.nc')"
   ]
  }
 ],
 "metadata": {
  "kernelspec": {
   "display_name": "Python [conda env:miniconda3-omz_env]",
   "language": "python",
   "name": "conda-env-miniconda3-omz_env-py"
  },
  "language_info": {
   "codemirror_mode": {
    "name": "ipython",
    "version": 3
   },
   "file_extension": ".py",
   "mimetype": "text/x-python",
   "name": "python",
   "nbconvert_exporter": "python",
   "pygments_lexer": "ipython3",
   "version": "3.8.12"
  }
 },
 "nbformat": 4,
 "nbformat_minor": 5
}